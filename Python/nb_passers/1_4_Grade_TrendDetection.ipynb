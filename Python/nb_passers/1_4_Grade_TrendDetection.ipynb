{
 "cells": [
  {
   "cell_type": "markdown",
   "metadata": {},
   "source": [
    "# This scripts is used to detect the patterns of passers' pre-/post-passing scores"
   ]
  },
  {
   "cell_type": "code",
   "execution_count": 35,
   "metadata": {
    "collapsed": true
   },
   "outputs": [],
   "source": [
    "import numpy as np\n",
    "import matplotlib.pyplot as plt\n",
    "from scipy import stats"
   ]
  },
  {
   "cell_type": "code",
   "execution_count": 36,
   "metadata": {
    "collapsed": true
   },
   "outputs": [],
   "source": [
    "# This function is used to output errors and slopes of learners' pre-/post-passing scores\n",
    "# Input: weekly grade and passing week\n",
    "# output: slope_pre, error_pre, slope_past, error_past, changes of slopes(slope_pre-slope_past)\n",
    "def grade_pattern_detect(score, week, passing_week):\n",
    "    index_passing_week = week.index(passing_week)\n",
    "    score_pre = score[0:index_passing_week+1]\n",
    "    week_pre = week[0:index_passing_week+1]\n",
    "    print week_pre\n",
    "    score_post = score[index_passing_week:]\n",
    "    week_post = week[index_passing_week:]\n",
    "    print week_post\n",
    "    # http://docs.scipy.org/doc/scipy-0.14.0/reference/generated/scipy.stats.linregress.html\n",
    "    slope_pre, intercept_pre, r_value_pre, p_value_pre, std_err_pre = stats.linregress(week_pre,score_pre)\n",
    "    slope_post, intercept_post, r_value_post, p_value_post, std_err_post = stats.linregress(week_post,score_post)\n",
    "#     fit_pre = np.polyfit(week_pre,score_pre,1)\n",
    "#     print fit_pre\n",
    "#     fit_fn_pre = np.poly1d(fit_pre)\n",
    "#     fit_post = np.polyfit(week_post,score_post,1)\n",
    "#     print fit_post\n",
    "#     fit_fn_post = np.poly1d(fit_post)\n",
    "    a = [slope_pre, intercept_pre, r_value_pre, p_value_pre, std_err_pre]\n",
    "    b = [slope_post, intercept_post, r_value_post, p_value_post, std_err_post]\n",
    "    return a, b #, fit_pre, fit_post"
   ]
  },
  {
   "cell_type": "markdown",
   "metadata": {},
   "source": [
    "## Demo"
   ]
  },
  {
   "cell_type": "code",
   "execution_count": 67,
   "metadata": {
    "collapsed": false
   },
   "outputs": [
    {
     "name": "stdout",
     "output_type": "stream",
     "text": [
      "[1, 2, 3, 4, 5, 6, 7]\n",
      "[7, 8]\n",
      "[0.13252801120442856, 0.10706605222742871, 0.6245682836850619, 0.13376452515547474, 0.074110068837722212]\n",
      "[0.33602150537700004, -1.7688172043060002, 1.0, nan, nan]\n",
      "-0.203493494173\n"
     ]
    }
   ],
   "source": [
    "# # Score Keeper\n",
    "# score = [0.888888888889,0.888888888889,0.924528301887,0.933333333333,0.790697674419,0.888888888889,0.12,0.826086956522] \n",
    "# passing_week = 5\n",
    "\n",
    "# # Score Reducer\n",
    "# score = [1.0,0.955555555556,1.0,0.911111111111,0.837209302326,0.777777777778,0.28,0.0]\n",
    "# passing_week = 5\n",
    "\n",
    "# # Score Chaser 1\n",
    "# score = [0.666666666667,0.777777777778,0.905660377358,0.8,0.720930232558,0.5,0.76,1.0]\n",
    "# passing_week = 7\n",
    "\n",
    "# Score Chaser 2\n",
    "score = [0.0,0.0,1.0,0.916129032258,0.960784313725,1.0,0.583333333333,0.91935483871]\n",
    "passing_week = 7\n",
    "\n",
    "week = [1,2,3,4,5,6,7,8]\n",
    "\n",
    "index_passing_week = week.index(passing_week)\n",
    "score_pre = score[0:index_passing_week+1]\n",
    "week_pre = week[0:index_passing_week+1]\n",
    "score_post = score[index_passing_week:]\n",
    "week_post = week[index_passing_week:]\n",
    "\n",
    "a, b = grade_pattern_detect(score, week, passing_week)\n",
    "print a\n",
    "print b\n",
    "fit_fn_pre = np.poly1d(a[0:2])\n",
    "fit_fn_post = np.poly1d(b[0:2])\n",
    "print a[0]-b[0]"
   ]
  },
  {
   "cell_type": "code",
   "execution_count": 68,
   "metadata": {
    "collapsed": false
   },
   "outputs": [
    {
     "data": {
      "image/png": "[encoded data removed]",
      "text/plain": [
       "<matplotlib.figure.Figure at 0x10cd47210>"
      ]
     },
     "metadata": {},
     "output_type": "display_data"
    }
   ],
   "source": [
    "# fit_fn = \n",
    "%matplotlib inline\n",
    "\n",
    "plt.ylabel('Score')\n",
    "plt.xlabel('Week')\n",
    "plt.plot(week, score, 'yo')\n",
    "# f_pre(x) = lambda x: a[0] * x + a[1]\n",
    "# f_post(x) = lambda x: b[0] * x + b[1]\n",
    "plt.plot(week_pre, fit_fn_pre(week_pre), \"b-.\", linewidth=4)\n",
    "plt.plot(week_post, fit_fn_post(week_post), \"b-.\", linewidth=4)\n",
    "plt.plot([passing_week, passing_week], [0, 1], 'r', linestyle='--', linewidth=4)\n",
    "plt.xlim(week[0]-0.5, week[-1]+0.5)\n",
    "plt.ylim(0, 1.05)\n",
    "plt.show()"
   ]
  },
  {
   "cell_type": "markdown",
   "metadata": {},
   "source": [
    "## Batch Processing\n",
    "Given passers' weekly scores (like \"FP101x_3T2015_grade_byweek_alt.csv\" generated in previous processing) and passers' group (like \"FP101x_3T2015_group.csv\"), our method can generate a dataframe whose columns are course_learner_id, slope_pre, intercept_pre, std_err_pre, slope_post, intercept_post, std_err_post and slope_changes."
   ]
  },
  {
   "cell_type": "code",
   "execution_count": null,
   "metadata": {
    "collapsed": true
   },
   "outputs": [],
   "source": []
  }
 ],
 "metadata": {
  "kernelspec": {
   "display_name": "Python 2",
   "language": "python",
   "name": "python2"
  },
  "language_info": {
   "codemirror_mode": {
    "name": "ipython",
    "version": 2
   },
   "file_extension": ".py",
   "mimetype": "text/x-python",
   "name": "python",
   "nbconvert_exporter": "python",
   "pygments_lexer": "ipython2",
   "version": "2.7.6"
  }
 },
 "nbformat": 4,
 "nbformat_minor": 0
}
