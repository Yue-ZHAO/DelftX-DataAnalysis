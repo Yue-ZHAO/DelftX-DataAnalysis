{
 "cells": [
  {
   "cell_type": "markdown",
   "metadata": {},
   "source": [
    "# Generating learners' motivations based on their answers in pre-/post-survey\n",
    "How to measure learners' motivation?\n",
    "In our work, we manually clasify answers of pre-/post-survey quations into different types, if a learner has any answer in Type A, we treat the learner belongs to Type A"
   ]
  },
  {
   "cell_type": "code",
   "execution_count": null,
   "metadata": {
    "collapsed": true
   },
   "outputs": [],
   "source": [
    "import os, csv\n",
    "import pandas as pd"
   ]
  },
  {
   "cell_type": "markdown",
   "metadata": {},
   "source": [
    "## Read related .csv files into dataframe"
   ]
  },
  {
   "cell_type": "code",
   "execution_count": null,
   "metadata": {
    "collapsed": true
   },
   "outputs": [],
   "source": [
    "# learner_group_file is used to filter passers\n",
    "# since we only focus on passers in this work\n",
    "\n",
    "# FP101x-3T2015\n",
    "learner_group_file_path = \"\"\n",
    "# Pre-survey files\n",
    "pre_survey_description_file_path = \"\"\n",
    "pre_survey_response_file_path = \"\"\n",
    "# Post-survey files\n",
    "post_survey_description_file_path = \"\"\n",
    "post_survey_response_file_path = \"\"\n",
    "\n",
    "# # EX101x-3T2015\n",
    "# learner_group_file_path = \"\"\n",
    "# # Pre-survey files\n",
    "# pre_survey_description_file_path = \"\"\n",
    "# pre_survey_response_file_path = \"\"\n",
    "# # Post-survey files\n",
    "# post_survey_description_file_path = \"\"\n",
    "# post_survey_response_file_path = \"\"\n",
    "\n",
    "# # CTB3365STx-1T2016\n",
    "# learner_group_file_path = \"\"\n",
    "# # Pre-survey files\n",
    "# pre_survey_description_file_path = \"\"\n",
    "# pre_survey_response_file_path = \"\"\n",
    "# # Post-survey files\n",
    "# post_survey_description_file_path = \"\"\n",
    "# post_survey_response_file_path = \"\""
   ]
  },
  {
   "cell_type": "code",
   "execution_count": null,
   "metadata": {
    "collapsed": true
   },
   "outputs": [],
   "source": [
    "# Read Data into Dataframe\n",
    "learner_group = pd.read_csv(learner_group_file_path)\n",
    "pre_survey_description = pd.read_csv(pre_survey_description_file_path)\n",
    "pre_survey_response = pd.read_csv(pre_survey_response_file_path)\n",
    "post_survey_description = pd.read_csv(post_survey_description_file_path)\n",
    "post_survey_response = pd.read_csv(post_survey_response_file_path)"
   ]
  },
  {
   "cell_type": "markdown",
   "metadata": {},
   "source": [
    "## Filtering Passers"
   ]
  },
  {
   "cell_type": "code",
   "execution_count": null,
   "metadata": {
    "collapsed": true
   },
   "outputs": [],
   "source": [
    "pre_survey_response_flt = pre_survey_response.merge(learner_group, by=\"course_learner_id\")\n",
    "post_survey_response_flt = post_survey_response.merge(learner_group, by=\"course_learner_id\")"
   ]
  },
  {
   "cell_type": "markdown",
   "metadata": {},
   "source": [
    "## Filtering Related Answers"
   ]
  },
  {
   "cell_type": "code",
   "execution_count": null,
   "metadata": {
    "collapsed": true
   },
   "outputs": [],
   "source": [
    "# Filter the survey description, since only a few questions are related to our analysis \n",
    "question_list = [\"\"]\n",
    "pre_survey_description_flt = ??\n",
    "post_survey_description_flt = ??"
   ]
  },
  {
   "cell_type": "code",
   "execution_count": null,
   "metadata": {
    "collapsed": true
   },
   "outputs": [],
   "source": [
    "# Merge the result of filtered survey questions and answers\n",
    "pre_survey_response_flt = pre_survey_response_flt.merge(pre_survey_description_flt)\n",
    "post_survey_response_flt = post_survey_response_flt.merge(post_survey_description_flt)"
   ]
  }
 ],
 "metadata": {
  "kernelspec": {
   "display_name": "Python 2",
   "language": "python",
   "name": "python2"
  },
  "language_info": {
   "codemirror_mode": {
    "name": "ipython",
    "version": 2
   },
   "file_extension": ".py",
   "mimetype": "text/x-python",
   "name": "python",
   "nbconvert_exporter": "python",
   "pygments_lexer": "ipython2",
   "version": "2.7.6"
  }
 },
 "nbformat": 4,
 "nbformat_minor": 0
}
