{
 "cells": [
  {
   "cell_type": "markdown",
   "metadata": {},
   "source": [
    "# Extract the demographics and paying info of Passers"
   ]
  },
  {
   "cell_type": "markdown",
   "metadata": {},
   "source": [
    "The main purpose of this script is to generate a file for passers' features.\n",
    "\n",
    "The format of output csv file is ```course_learner_id, gender, age, edu, national, payment```\n",
    "\n",
    "NULL or na will be filled as ```Unknown```\n",
    "\n",
    "Some barcharts or piecharts are used to explore how the data looks like.\n",
    "\n",
    "``` sql\n",
    "SELECT \n",
    "\tlearner.course_learner_id AS course_learner_id,\n",
    "    learner.enrollment_mode AS enrollment_mode,\n",
    "    demographic.gender AS gender,\n",
    "    demographic.year_of_birth AS year_of_birth,\n",
    "    demographic.level_of_education AS level_of_education,\n",
    "    demographic.country AS country\n",
    "FROM \n",
    "\tDelftX.course_learner AS learner\n",
    "    JOIN DelftX.learner_demographic AS demographic\n",
    "\tON learner.course_learner_id = demographic.course_learner_id\n",
    "WHERE \n",
    "\tlearner.certificate_status <> \"notpassing\")\n",
    "```"
   ]
  },
  {
   "cell_type": "code",
   "execution_count": null,
   "metadata": {
    "collapsed": true
   },
   "outputs": [],
   "source": [
    "import pandas as pd"
   ]
  },
  {
   "cell_type": "code",
   "execution_count": null,
   "metadata": {
    "collapsed": true
   },
   "outputs": [],
   "source": [
    "# Read data\n"
   ]
  }
 ],
 "metadata": {
  "kernelspec": {
   "display_name": "Python 2",
   "language": "python",
   "name": "python2"
  },
  "language_info": {
   "codemirror_mode": {
    "name": "ipython",
    "version": 2
   },
   "file_extension": ".py",
   "mimetype": "text/x-python",
   "name": "python",
   "nbconvert_exporter": "python",
   "pygments_lexer": "ipython2",
   "version": "2.7.6"
  }
 },
 "nbformat": 4,
 "nbformat_minor": 0
}
