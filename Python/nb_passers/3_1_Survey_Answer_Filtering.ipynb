{
 "cells": [
  {
   "cell_type": "markdown",
   "metadata": {},
   "source": [
    "# Survey Answer Filtering\n",
    "This scrips is used for filtering learners' answers in pre-/post-survey of the course."
   ]
  },
  {
   "cell_type": "code",
   "execution_count": 32,
   "metadata": {
    "collapsed": true
   },
   "outputs": [],
   "source": [
    "import pandas as pd\n",
    "import os, csv"
   ]
  },
  {
   "cell_type": "code",
   "execution_count": 41,
   "metadata": {
    "collapsed": false
   },
   "outputs": [],
   "source": [
    "# Read .csv files of learners' answers and anonymization maps\n",
    "\n",
    "# FP101x-3T2015\n",
    "course_id = \"course-v1:DelftX+FP101x+3T2015\"\n",
    "course_id_alt = \"FP101x_3T2015\"\n",
    "anon_file_path = \"survey/FP101x_3T2015_anon-ids.csv\"\n",
    "pre_survey_file_path = \"survey/FP101x_3T2015_Pre-course_survey.csv\"\n",
    "post_survey_file_path = \"survey/FP101x_3T2015_Post-course_survey.csv\"\n",
    "\n",
    "# # EX101x-3T2015\n",
    "# course_id = \"course-v1:DelftX+EX101x+3T2015\"\n",
    "# course_id_alt = \"EX101x_3T2015\"\n",
    "# anon_file_path = \"survey/EX101x_3T2015_anon-ids.csv\"\n",
    "# pre_survey_file_path = \"survey/EX101x_3T2015_Pre-course_survey.csv\"\n",
    "# post_survey_file_path = \"survey/EX101x_3T2015_Post-course_survey.csv\"\n",
    "\n",
    "# # CTB3365STx-1T2016\n",
    "# course_id = \"course-v1:DelftX+CTB3365STx+1T2016\"\n",
    "# course_id_alt = \"CTB3365STx_1T2016\"\n",
    "# anon_file_path = \"survey/CTB3365STx_1T2016_anon-ids.csv\"\n",
    "# pre_survey_file_path = \"survey/CTB3365STx_1T2016_Pre-course_survey.csv\"\n",
    "# post_survey_file_path = \"survey/CTB3365STx_1T2016_Post-course_survey.csv\"\n",
    "\n",
    "# Output Folder\n",
    "outputfolderpath = \"motivations/\"\n",
    "if not os.path.exists(outputfolderpath):\n",
    "    os.makedirs(outputfolderpath)"
   ]
  },
  {
   "cell_type": "markdown",
   "metadata": {},
   "source": [
    "## Read global id and anon id into a map"
   ]
  },
  {
   "cell_type": "code",
   "execution_count": 42,
   "metadata": {
    "collapsed": false
   },
   "outputs": [],
   "source": [
    "learner_id_map = {}\n",
    "anon_file = open(anon_file_path, \"r\")\n",
    "id_reader = csv.reader(anon_file)\n",
    "id_reader.next()\n",
    "for row in id_reader:\n",
    "    global_id = row[0].replace(\"\\\"\",\"\")\n",
    "    anonymized_id = row[1].replace(\"\\\"\",\"\")\n",
    "    learner_id_map[anonymized_id] = global_id\n",
    "# print learner_id_map"
   ]
  },
  {
   "cell_type": "markdown",
   "metadata": {},
   "source": [
    "## Read pre-survey from the file"
   ]
  },
  {
   "cell_type": "code",
   "execution_count": 43,
   "metadata": {
    "collapsed": false
   },
   "outputs": [
    {
     "name": "stdout",
     "output_type": "stream",
     "text": [
      "['startDate', 'endDate', 'status', 'ipAddress', 'progress', 'duration', 'finished', 'recordedDate', '_recordId', 'recipientLastName', 'recipientFirstName', 'recipientEmail', 'externalDataReference', 'locationLatitude', 'locationLongitude', 'distributionChannel', 'QID12_BROWSER', 'QID12_VERSION', 'QID12_OS', 'QID12_RESOLUTION', 'QID14', 'QID14_25_TEXT', 'QID15', 'QID15_8_TEXT', 'QID16', 'QID16_10_TEXT', 'QID17', 'QID17_8_TEXT', 'QID18', 'QID19', 'QID57_17', 'QID57_18', 'QID57_16', 'QID57_19', 'QID57_20', 'QID57_13', 'QID57_14', 'QID57_21', 'QID57_22', 'QID21', 'QID23', 'QID24', 'QID61', 'QID25', 'QID26_1', 'QID58_1', 'QID27_1', 'QID27_2', 'QID27_3', 'QID27_4', 'QID27_5', 'QID27_6', 'QID27_7', 'QID27_8', 'QID27_20_TEXT', 'QID29', 'QID30', 'QID31', 'QID32', 'QID79_14', 'QID79_15', 'QID79_16', 'QID79_17', 'QID79_18', 'QID28_9', 'QID28_10', 'QID28_11', 'QID28_12', 'QID28_13', 'QID62', 'QID77_8', 'QID77_9', 'QID77_10', 'QID77_11', 'QID77_12', 'QID77_13', 'QID78_TEXT', 'QID83#1_4', 'QID83#1_5', 'QID83#1_6', 'QID83#2_4', 'QID83#2_5', 'QID83#2_6', 'QID85#1_7', 'QID85#1_8', 'QID85#1_9', 'QID85#1_10', 'QID85#1_11', 'QID85#1_12', 'QID85#1_13', 'QID85#1_14', 'QID85#1_15', 'QID85#1_16', 'QID85#1_17', 'QID85#1_18', 'QID85#1_18_TEXT', 'QID85#2_7', 'QID85#2_8', 'QID85#2_9', 'QID85#2_10', 'QID85#2_11', 'QID85#2_12', 'QID85#2_13', 'QID85#2_14', 'QID85#2_15', 'QID85#2_16', 'QID85#2_17', 'QID85#2_18', 'QID85#2_18_TEXT', 'QID86_TEXT', 'QID63_4', 'QID63_5', 'QID63_6', 'QID63_7', 'QID65_4', 'QID65_5', 'QID65_6', 'QID65_7', 'QID67', 'QID66', 'QID66_3_TEXT', 'QID89_4', 'QID89_5', 'QID89_6', 'QID89_7', 'QID89_8', 'QID92_4', 'QID92_5', 'QID92_6', 'QID92_7', 'QID92_8', 'QID92_9', 'QID93_17', 'QID93_18', 'QID93_19', 'QID93_20', 'QID93_21', 'QID93_22', 'QID93_23', 'QID94', 'QID95_TEXT', 'QID96_1', 'QID97_TEXT', 'QID35_TEXT', 'QID36', 'QID37_1', 'QID37_2', 'QID38', 'QID39_1', 'QID39_2', 'QID42', 'QID42_10_TEXT', 'QID44', 'QID44_9_TEXT', 'QID45_TEXT', 'QID46_1', 'QID46_2', 'QID47', 'QID47_12_TEXT', 'QID48_TEXT', 'QID49', 'QID52_TEXT', 'QID53', 'user_id', 'course_id', 'course_type', 'Q', 'City', 'State', 'Country', 'Q_TotalDuration', 'Referer']\n",
      "172\n",
      "['Start Date', 'End Date', 'Response Type', 'IP Address', 'Progress', 'Duration (in seconds)', 'Finished', 'Recorded Date', 'Response ID', 'Recipient Last Name', 'Recipient First Name', 'Recipient Email', 'External Reference', 'LocationLatitude - Location Latitude', 'LocationLongitude - Location Longitude', 'DistributionChannel - Distribution Channel', 'Q3.1_Browser - Browser', 'Q3.1_Version - Version', 'Q3.1_Operating System - Operating System', 'Q3.1_Resolution - Resolution', 'Q3.3 - How did you discover this course? I found\\r\\nout about this course through:', 'Q3.3_25_TEXT - \\xe2\\x80\\xa6 some other way:', 'Q3.4 - Who recommended this course to you?', 'Q3.4_8_TEXT - Other ...', 'Q3.5 - Why did you enrol in this course? Choose\\r\\nthe answer that best describes you...', 'Q3.5_10_TEXT - Other \\xe2\\x80\\xa6', 'Q3.6 - How are you pursuing a degree in this field?\\r\\nChoose the answer that best de...', 'Q3.6_8_TEXT - Other \\xe2\\x80\\xa6', 'Q3.7 - Is your educational background related to the topic of this course? Choose...', 'Q3.8 - Do you have professional work experience in this field? Choose the answer t...', 'Q3.9_17 - My general experience with online university courses.', 'Q3.9_18 - My experience with other online Delft University of Technology / DelftX cou...', 'Q3.9_16 - My experience with other DelftX courses on edX.', 'Q3.9_19 - The status and reputation of Delft University of Technology.', 'Q3.9_20 - The possibility of earning European Credits and a certificate by completing...', 'Q3.9_13 - The possibility of earning Continuous Education Units(CEUs) and a certifica...', 'Q3.9_14 - The possibility of earning a Verified Certificate.', 'Q3.9_21 - The relevance of the course topic for my occupation or work.', 'Q3.9_22 - A recommendation from someone else.', 'Q3.10 - How familiar are you with Delft University of Technology prior to this cour...', 'Q4.2 - Have you ever taken an online course before?', 'Q4.3 - In how many online courses have you enrolled before?', 'Q4.4 - How many online courses did you complete?', 'Q4.5 - Have you enrolled in a DelftX (Delft University of Technology) course on ed...', 'Q4.6_1 - Amount of hours:', 'Q4.7_1 - Amount of hours:', 'Q4.8_13 - Course materials to read', 'Q4.8_14 - Course materials to view / listen to', 'Q4.8_15 - Interactive course materials', 'Q4.8_16 - Individual course assignments', 'Q4.8_17 - Group course assignments', 'Q4.8_18 - Interaction with other students on the course discussion board', 'Q4.8_19 - Guidance and feedback from lecturers and / or teaching assistants', 'Q4.8_20 - Click to write Item 8', 'Q4.8_20_TEXT - Click to write Item 8', 'Q4.9 - How would you rate your level of English proficiency?', 'Q4.10 - How comfortable are you communicating in English?', 'Q4.11 - Most course videos are provided with English subtitles. Do you think you wi...', 'Q4.12 - How likely are you to work together with other students to complete this co...', 'Q5.2_14 - Differential equations', 'Q5.2_15 - Policy analysis', 'Q5.2_16 - System dynamics', 'Q5.2_17 - Constructing simulation models', 'Q5.2_18 - Using simulation software', 'Q7.2_9 - Pivot Tables', 'Q7.2_10 - Array Formulas', 'Q7.2_11 - Python', 'Q7.2_12 - Graph Databases', 'Q7.2_13 - Using Named Ranges', 'Q7.3 - What version of Excel do you use?  Select all that apply:', 'Q8.2_8 - Water Quality', 'Q8.2_9 - Mass Transport and Transfer', 'Q8.2_10 - Sedimentation and Filtration', 'Q8.2_11 - Adsorption in Filters', 'Q8.2_12 - Chemical Reactions', 'Q8.2_13 - Biochemical Reactions', 'Q8.3 - Where/how did you gain prior knowledge on the 6 topics of discussion?', 'Q8.2#1_4 - People', 'Q8.2#1_5 - Technology', 'Q8.2#1_6 - Business', 'Q8.2#2_4 - People', 'Q8.2#2_5 - Technology', 'Q8.2#2_6 - Business', 'Q8.3#1_7 - Product design practice', 'Q8.3#1_8 - Design education', 'Q8.3#1_9 - Design methods', 'Q8.3#1_10 - Idea generation', 'Q8.3#1_11 - Sketching', 'Q8.3#1_12 - Developing a design goal or vision', 'Q8.3#1_13 - Contextual user research', 'Q8.3#1_14 - Design presentation and visual communication', 'Q8.3#1_15 - Making prototypes', 'Q8.3#1_16 - Technical detailing', 'Q8.3#1_17 - Aesthetical detailing', 'Q8.3#1_18 - Other:', 'Q8.3#1_18_TEXT - Other:', 'Q8.3#2_7 - Product design practice', 'Q8.3#2_8 - Design education', 'Q8.3#2_9 - Design methods', 'Q8.3#2_10 - Idea generation', 'Q8.3#2_11 - Sketching', 'Q8.3#2_12 - Developing a design goal or vision', 'Q8.3#2_13 - Contextual user research', 'Q8.3#2_14 - Design presentation and visual communication', 'Q8.3#2_15 - Making prototypes', 'Q8.3#2_16 - Technical detailing', 'Q8.3#2_17 - Aesthetical detailing', 'Q8.3#2_18 - Other:', 'Q8.3#2_18_TEXT - Other:', 'Q9.4 - What would you like to design? You can think, for example, about a specific...', 'Q10.2_4 - Text analytics / Natural language processing', 'Q10.2_5 - Competitive intelligence / Tech mining', 'Q10.2_6 - Business development', 'Q10.2_7 - Innovation processes', 'Q10.3_4 - General programming', 'Q10.3_5 - Python-related programming', 'Q10.3_6 - Statistics', 'Q10.3_7 - Machine learning / Data science', 'Q10.4 - Do you plan to apply text mining to a specific sector\\r\\nor application?', 'Q10.5 - In which sector or application do you expect to apply the knowledge of Text...', 'Q10.5_3_TEXT - Other ...', 'Q6.2_4 - Biobased Economy', 'Q6.2_5 - Microorganisms and Microbial rates', 'Q6.2_6 - Fermentation Technology', 'Q6.2_7 - Process Design and Simulation', 'Q6.2_8 - Sustainability', 'Q11.2_4 - The differences between a linear and a circular economy.', 'Q11.2_5 - The principles and general ideas behind the circular economy', 'Q11.2_6 - The different feedback loops (cycles) in a circular economy, for instance r...', 'Q11.2_7 - The kinds of business models that work in a circular economy', 'Q11.2_8 - Barriers for making the transition to more circular business models', 'Q11.2_9 - The role of product design in a circular economy.', 'Q12.2_17 - Command and Data Handling', 'Q12.2_18 - Structures, Mechanisms and Thermal Control', 'Q12.2_19 - Electrical Power', 'Q12.2_20 - Attitude Control', 'Q12.2_21 - Space propulsion fundamentals & Ideal Rocket Theory', 'Q12.2_22 - Chemical Propulsion', 'Q12.2_23 - Electric Propulsion', 'Q12.3 - What do you think off the effectiveness of the current course structure, wi...', 'Q12.4 - Please provide your notes and remarks related to the present course structu...', 'Q12.5_1 - Utility score:', 'Q12.6 - Please provide your notes and remarks related to the Cubesat workshop.', 'Q13.2 - What is your age in years?', 'Q13.3 - What is your gender?', 'Q13.4_1 - Continent', 'Q13.4_2 - Country', 'Q13.5 - Do you hold a dual nationality?', 'Q13.6_1 - Continent', 'Q13.6_2 - Country', 'Q13.7 - What is the highest degree or level of education you have completed?', 'Q13.7_10_TEXT - Other \\xe2\\x80\\xa6', 'Q13.8 - Which of the following best describes your current occupation?', 'Q13.8_9_TEXT - Other \\xe2\\x80\\xa6', 'Q13.9 - On average, how many hours per week do you study for your degree program?', 'Q13.10_1 - Sector', 'Q13.10_2 - Industry', 'Q13.11 - Which of the following most closely matches your job title?', 'Q13.11_12_TEXT - Other \\xe2\\x80\\xa6', 'Q13.12 - On average, how many hours do you work per week?', 'Q13.13 - Are you allowed to follow this course during working hours?', 'Q13.14 - How many years of working experience do you have?', 'Q13.15 - We are doing a lot of exciting research at Delft University of Technology....', 'user_id', 'course_id', 'course_type', 'Q', 'City', 'State', 'Country', 'Q_TotalDuration', 'Referer']\n",
      "172\n"
     ]
    }
   ],
   "source": [
    "pre_survey_file = open(pre_survey_file_path, \"r\")\n",
    "pre_survey_reader = csv.reader(pre_survey_file)\n",
    "\n",
    "question_id_row = pre_survey_reader.next()\n",
    "print question_id_row\n",
    "print len(question_id_row)\n",
    "question_description_row = pre_survey_reader.next()\n",
    "print question_description_row\n",
    "print len(question_description_row)\n",
    "\n",
    "# Output survey_descriptions\n",
    "survey_descriptions_file_path = outputfolderpath + course_id_alt + \"_pre_survey_description.csv\"\n",
    "with open(survey_descriptions_file_path, 'a') as survey_descriptions_file:\n",
    "    survey_descriptions_file.write(\"question_id, question_description\" + \"\\n\")\n",
    "    for i in range(len(list(question_id_row))):\n",
    "        question_id = course_id + \"_pre_\" + question_id_row[i].replace(\"\\\"\",\"\")\n",
    "        question_description = question_description_row[i].replace(\"\\'\", \"\\\\'\")\n",
    "        if question_id != \"\":\n",
    "            line = question_id + \", \" + question_description\n",
    "            survey_descriptions_file.write(line + \"\\n\")\n",
    "        \n",
    "pre_id_index = list(question_id_row).index(\"user_id\")\n",
    "# print pre_id_index\n",
    "\n",
    "# Output survey_responses\n",
    "survey_responses_file_path = outputfolderpath + course_id_alt + \"_pre_survey_reponse.csv\"\n",
    "with open(survey_responses_file_path, 'a') as survey_responses_file:\n",
    "    survey_responses_file.write(\"course_learner_id, question_id, reponse\" + \"\\n\")\n",
    "    for row in pre_survey_reader:\n",
    "        learner_id = row[pre_id_index]\n",
    "        # print learner_id\n",
    "        if learner_id in learner_id_map.keys():\n",
    "            course_learner_id = course_id + \"_\" + learner_id_map[learner_id]\n",
    "\n",
    "            for i in range(len(list(question_id_row))):\n",
    "                question_id = course_id + \"_pre_\" + question_id_row[i].replace(\"\\\"\",\"\")\n",
    "                answer = row[i]\n",
    "                if answer != \"\":\n",
    "                    line = course_learner_id + \", \" + question_id + \", \" + answer\n",
    "                    survey_responses_file.write(line + \"\\n\")           \n",
    "\n",
    "# Close the pre survey file\n",
    "pre_survey_file.close()"
   ]
  },
  {
   "cell_type": "markdown",
   "metadata": {},
   "source": [
    "## Read post-survey from the file"
   ]
  },
  {
   "cell_type": "code",
   "execution_count": 44,
   "metadata": {
    "collapsed": false
   },
   "outputs": [
    {
     "name": "stdout",
     "output_type": "stream",
     "text": [
      "['startDate', 'endDate', 'status', 'ipAddress', 'progress', 'duration', 'finished', 'recordedDate', '_recordId', 'recipientLastName', 'recipientFirstName', 'recipientEmail', 'externalDataReference', 'QID2_BROWSER', 'QID2_VERSION', 'QID2_OS', 'QID2_RESOLUTION', 'QID3', 'QID3_6_TEXT', 'QID5_TEXT', 'QID7_TEXT', 'QID8_TEXT', 'QID6_1', 'QID9', 'QID10_TEXT', 'QID12_TEXT', 'QID11_1', 'QID11_2', 'QID11_3', 'QID11_4', 'QID11_5', 'QID14_1', 'QID14_2', 'QID14_3', 'QID14_4', 'QID14_5', 'QID14_6', 'QID14_7', 'QID16_1', 'QID17_TEXT', 'QID18_TEXT', 'QID19_1', 'QID19_2', 'QID19_3', 'QID19_4', 'QID19_5', 'QID19_6', 'QID19_7', 'QID23_TEXT', 'QID24_TEXT', 'QID26', 'QID27', 'QID28', 'QID30_14', 'QID30_15', 'QID30_16', 'QID30_17', 'QID30_18', 'QID57', 'QID57_4_TEXT', 'QID58_TEXT', 'QID59_1', 'QID61_1', 'QID63_1', 'QID64_TEXT', 'QID65_1', 'QID66_1', 'QID67_1', 'QID68_TEXT', 'QID73_1', 'QID74_1', 'QID75_1', 'QID76_TEXT', 'QID55', 'QID55_4_TEXT', 'QID56_TEXT', 'QID31_4', 'QID31_5', 'QID31_6', 'QID31_7', 'QID31_8', 'QID32_9', 'QID32_10', 'QID32_11', 'QID32_12', 'QID32_13', 'QID33_8', 'QID33_9', 'QID33_10', 'QID33_11', 'QID33_12', 'QID33_13', 'QID86_1', 'QID86_2', 'QID86_3', 'QID87_1', 'QID87_2', 'QID87_3', 'QID87_4', 'QID87_5', 'QID87_6', 'QID87_7', 'QID87_8', 'QID87_9', 'QID87_10', 'QID87_11', 'QID87_12', 'QID87_12_TEXT', 'QID89_4', 'QID89_5', 'QID89_6', 'QID89_7', 'QID89_8', 'QID89_9', 'QID89_10', 'QID89_11', 'QID89_12', 'QID90_4', 'QID90_5', 'QID90_6', 'QID90_7', 'QID90_8', 'QID90_9', 'QID90_10', 'QID90_11', 'QID90_12', 'QID90_13', 'QID90_14', 'QID90_15', 'QID82', 'QID83_TEXT', 'QID84', 'QID85_TEXT', 'QID35_4', 'QID35_5', 'QID35_6', 'QID35_7', 'QID36_4', 'QID36_5', 'QID36_6', 'QID36_7', 'QID91', 'QID92', 'QID37_1', 'QID37_2', 'QID37_3', 'QID37_4', 'QID37_5', 'QID37_6', 'QID37_7', 'QID37_8', 'QID37_9', 'QID38_1', 'QID38_2', 'QID38_3', 'QID38_4', 'QID38_5', 'QID39_TEXT', 'user_id', 'course_id', 'course_type', 'Q', 'City', 'State', 'Country', 'Q_TotalDuration', 'Referer']\n",
      "167\n",
      "['Start Date', 'End Date', 'Response Type', 'IP Address', 'Progress', 'Duration (in seconds)', 'Finished', 'Recorded Date', 'Response ID', 'Recipient Last Name', 'Recipient First Name', 'Recipient Email', 'External Reference', 'Q3.1_Browser - Browser', 'Q3.1_Version - Version', 'Q3.1_Operating System - Operating System', 'Q3.1_Resolution - Resolution', 'Q3.3 - Since the start of the course, how would you describe your participation le...', 'Q3.3_6_TEXT - Other ...', 'Q3.4 - Could you please describe the reason(s) why you did not start the course?', 'Q3.6 - Could you please describe the reason(s) why you decided not to continue wit...', 'Q3.7 - Could you please describe which specific parts of the course you were inter...', 'Q3.8_1 - Hours:', 'Q3.9 - Did the course meet your expectations? Choose the one that applies the most...', 'Q3.10 - Could you please describe how the course exceeded your expectations?', 'Q3.11 - Could you please describe how the course did not meet your expectations?', 'Q3.12_1 - \\xe2\\x80\\xa6 had an active role on the course forums.', 'Q3.12_2 - \\xe2\\x80\\xa6 adequately responded to questions from students.', 'Q3.12_3 - \\xe2\\x80\\xa6 motivated me to complete this course.', 'Q3.12_4 - \\xe2\\x80\\xa6 made me enthusiastic about online learning.', 'Q3.12_5 - \\xe2\\x80\\xa6 provided sufficient feedback on tasks and activities.', 'Q3.13_1 - \\xe2\\x80\\xa6 interacted with other students?', 'Q3.13_2 - \\xe2\\x80\\xa6 helped other students with their course work?', 'Q3.13_3 - \\xe2\\x80\\xa6 received help from other students with your course work?', 'Q3.13_4 - \\xe2\\x80\\xa6 posted a comment or question on the course discussion board?', 'Q3.13_5 - \\xe2\\x80\\xa6 communicated with the instructor and / or teaching assistants on the foru...', 'Q3.13_6 - \\xe2\\x80\\xa6 used the course to network?', 'Q3.13_7 - \\xe2\\x80\\xa6 felt part of a community?', 'Q4.2_1 - Course grade', 'Q4.3 - Which single aspect of this course did you like the most? Please explain.', 'Q4.4 - Which single aspect of this course would you like us to improve? Please exp...', 'Q4.5_1 - I learned a lot from this course.', 'Q4.5_2 - I can apply what I have learned in this course in my daily work.', 'Q4.5_3 - This course helps me advance in my career / professional field.', 'Q4.5_4 - This course was well worth my time.', 'Q4.5_5 - I would recommend this course to another person.', 'Q4.5_6 - I would take another course given by this (team of) instructor(s).', 'Q4.5_7 - This course was well worth its price.', 'Q4.6 - What do you consider the most valuable thing you have learned in this cours...', 'Q4.7 - After participating in this course, what would you like to learn next?', 'Q5.2 - How would you rate the difficulty level of the course?', 'Q5.3 - How would you describe the amount of work required for the course?', 'Q5.4 - How would you describe the duration (in weeks) of the course?', 'Q6.1_14 - Differential equations', 'Q6.1_15 - Policy analysis', 'Q6.1_16 - System dynamics', 'Q6.1_17 - Constructing simulation models', 'Q6.1_18 - Using simulation software', 'Q6.2 - The Systems modelling course currently offers credits from the European Cre...', 'Q6.2_4_TEXT - Something else', 'Q6.3 - Please explain your answer', 'Q6.4_1 - Very poor:Excellent', 'Q6.5_1 - Very poor:Excellent', 'Q6.6_1 - Not at all:Very clear', 'Q6.7 - If you have\\r\\nspecific suggestions or other comments for us to improve the ex...', 'Q7.1_1 - Very poor:Excellent', 'Q7.2_1 - Very poor:Excellent', 'Q7.3_1 - Not at all:Very clear', 'Q7.4 - If you have\\r\\nspecific suggestions or other comments for us to improve the ex...', 'Q8.1_1 - Very poor:Excellent', 'Q8.2_1 - Very poor:Excellent', 'Q8.3_1 - Not at all:Very clear', 'Q8.4 - If you have\\r\\nspecific suggestions or other comments for us to improve the ex...', 'Q9.1 - The Linear modelling course currently offers credits from the European Cred...', 'Q9.1_4_TEXT - Something else', 'Q9.2 - Please explain your answer', 'Q10.1_4 - Biobased Economy', 'Q10.1_5 - Microorganisms and Microbial rates', 'Q10.1_6 - Fermentation Technology', 'Q10.1_7 - Process Design and Simulation', 'Q10.1_8 - Sustainability', 'Q11.1_9 - Pivot Tables', 'Q11.1_10 - Array Formulas', 'Q11.1_11 - Python', 'Q11.1_12 - Graph Databases', 'Q11.1_13 - Using Named Ranges', 'Q12.1_8 - Water Quality', 'Q12.1_9 - Mass Transport and Transfer', 'Q12.1_10 - Sedimentation and Filtration', 'Q12.1_11 - Adsorption in Filters', 'Q12.1_12 - Chemical Reactions', 'Q12.1_13 - Biochemical Reactions', 'Q13.1_1 - People', 'Q13.1_2 - Technology', 'Q13.1_3 - Business', 'Q13.2_1 - Product design practice', 'Q13.2_2 - Design education', 'Q13.2_3 - Design methods', 'Q13.2_4 - Idea generation', 'Q13.2_5 - Sketching', 'Q13.2_6 - Developing a design goal or vision', 'Q13.2_7 - Contextual user research', 'Q13.2_8 - Design presentation and visual communication', 'Q13.2_9 - Making prototypes', 'Q13.2_10 - Technical detailing', 'Q13.2_11 - Aesthetical detailing', 'Q13.2_12 - Other:', 'Q13.2_12_TEXT - Other:', 'Q13.3_4 - Week 0: Welcome!', 'Q13.3_5 - Week 1: Understanding meaning in design', 'Q13.3_6 - Week 2: Understanding the context of use', 'Q13.3_7 - Week 3: Defining your design challenge', 'Q13.3_8 - Week 4: Creating ideas', 'Q13.3_9 - Week 5 & 6: Developing concepts', 'Q13.3_10 - Week 7: Testing with users and final presentation', 'Q13.3_11 - Week 8: Wrap up: Delft Design Approach in context', 'Q13.3_12 - Extra assignment on prototyping', 'Q13.4_4 - Lecture videos', 'Q13.4_5 - Benchmark videos', 'Q13.4_6 - Interview videos', 'Q13.4_7 - Sofa session videos', 'Q13.4_8 - Literature', 'Q13.4_9 - Quizzes', 'Q13.4_10 - Checklists', 'Q13.4_11 - Templates', 'Q13.4_12 - Self-assessments', 'Q13.4_13 - Peer assessments', 'Q13.4_14 - Discussion forum', 'Q13.4_15 - World map', 'Q13.5 - How much do you agree with the following statement?\\r\\n\\r\\n\"The theme \\xe2\\x80\\x98morning ri...', 'Q13.6 - Could you please elaborate on your answer to the question above?', 'Q13.7 - To what extent is your design, in your opinion, a culture-specific design o...', 'Q13.8 - Could you please elaborate on your answer to the question above (you can th...', 'Q14.1_4 - Text analytics / Natural language processing', 'Q14.1_5 - Competitive intelligence / Tech mining', 'Q14.1_6 - Business development', 'Q14.1_7 - Innovation processes', 'Q14.2_4 - General programming', 'Q14.2_5 - Python-related programming', 'Q14.2_6 - Statistics', 'Q14.2_7 - Machine learning / Data science', 'Q15.1 - To what extent did you engage with the Learning Tracker?', 'Q15.2 - How helpful was the Learning Tracker in allowing you to better plan your le...', 'Q15.1_1 - The course activities had the right balance between reading, viewing, and d...', 'Q15.1_2 - The structure of the course allowed me to study whenever was most convenien...', 'Q15.1_3 - It was always clear what was expected from me for particular assignments or...', 'Q15.1_4 - The difficulty of the assignments matched the difficulty of the course.', 'Q15.1_5 - The edX website is user friendly.', 'Q15.1_6 - The edX website allows you to easily find the course materials and assignme...', 'Q15.1_7 - I would rather have followed this course through an offline class.', 'Q15.1_8 - The Blackboard learning environment is user friendly.', 'Q15.1_9 - The Blackboard learning environment allows you to easily find the course ma...', 'Q15.2_1 - Course materials to view / listen to (i.e. audio recordings, animations, vi...', 'Q15.2_2 - Course materials to read (i.e. webpages, e-books, articles).', 'Q15.2_3 - Interactive course materials (i.e. simulations, games).', 'Q15.2_4 - Individual course assignments (i.e. quizzes, exercises, exams).', 'Q15.2_5 - Group course assignments (i.e. discussions, peer reviews, projects).', 'Q15.3 - If you have specific suggestions, praise, or other comments for the course...', 'user_id', 'course_id', 'course_type', 'Q', 'City', 'State', 'Country', 'Q_TotalDuration', 'Referer']\n",
      "167\n"
     ]
    }
   ],
   "source": [
    "post_survey_file = open(post_survey_file_path, \"r\")\n",
    "post_survey_reader = csv.reader(post_survey_file)\n",
    "\n",
    "question_id_row = post_survey_reader.next()\n",
    "print question_id_row\n",
    "print len(question_id_row)\n",
    "question_description_row = post_survey_reader.next()\n",
    "print question_description_row\n",
    "print len(question_description_row)\n",
    "\n",
    "# Output survey_descriptions\n",
    "survey_descriptions_file_path = outputfolderpath + course_id_alt + \"_post_survey_description.csv\"\n",
    "with open(survey_descriptions_file_path, 'a') as survey_descriptions_file:\n",
    "    survey_descriptions_file.write(\"question_id, question_description\" + \"\\n\")\n",
    "    for i in range(len(list(question_id_row))):\n",
    "        question_id = course_id + \"_post_\" + question_id_row[i].replace(\"\\\"\",\"\")\n",
    "        question_description = question_description_row[i].replace(\"\\'\", \"\\\\'\")\n",
    "        if question_id != \"\":\n",
    "            line = question_id + \", \" + question_description\n",
    "            survey_descriptions_file.write(line + \"\\n\")\n",
    "        \n",
    "post_id_index = list(question_id_row).index(\"user_id\")\n",
    "\n",
    "# Output survey_responses\n",
    "survey_responses_file_path = outputfolderpath + course_id_alt + \"_post_survey_reponse.csv\"\n",
    "with open(survey_responses_file_path, 'a') as survey_responses_file:\n",
    "    survey_responses_file.write(\"course_learner_id, question_id, reponse\" + \"\\n\")\n",
    "    for row in post_survey_reader:\n",
    "        learner_id = row[post_id_index]\n",
    "        if learner_id in learner_id_map.keys():\n",
    "            course_learner_id = course_id + \"_\" + learner_id_map[learner_id]\n",
    "\n",
    "            for i in range(len(list(question_id_row))):\n",
    "                question_id = course_id + \"_post_\" + question_id_row[i].replace(\"\\\"\",\"\")\n",
    "                answer = row[i]\n",
    "                if answer != \"\":\n",
    "                    line = course_learner_id + \", \" + question_id + \", \" + answer\n",
    "                    survey_responses_file.write(line + \"\\n\") \n",
    "\n",
    "# Close the post survey file\n",
    "post_survey_file.close()"
   ]
  },
  {
   "cell_type": "code",
   "execution_count": null,
   "metadata": {
    "collapsed": true
   },
   "outputs": [],
   "source": []
  },
  {
   "cell_type": "code",
   "execution_count": null,
   "metadata": {
    "collapsed": true
   },
   "outputs": [],
   "source": []
  }
 ],
 "metadata": {
  "kernelspec": {
   "display_name": "Python 2",
   "language": "python",
   "name": "python2"
  },
  "language_info": {
   "codemirror_mode": {
    "name": "ipython",
    "version": 2
   },
   "file_extension": ".py",
   "mimetype": "text/x-python",
   "name": "python",
   "nbconvert_exporter": "python",
   "pygments_lexer": "ipython2",
   "version": "2.7.6"
  }
 },
 "nbformat": 4,
 "nbformat_minor": 0
}
