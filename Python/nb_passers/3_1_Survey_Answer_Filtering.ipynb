{
 "cells": [
  {
   "cell_type": "markdown",
   "metadata": {},
   "source": [
    "# Survey Answer Filtering\n",
    "This scrips is used for filtering learners' answers in pre-/post-survey of the course."
   ]
  },
  {
   "cell_type": "code",
   "execution_count": 32,
   "metadata": {
    "collapsed": true
   },
   "outputs": [],
   "source": [
    "import pandas as pd\n",
    "import os, csv"
   ]
  },
  {
   "cell_type": "code",
   "execution_count": 33,
   "metadata": {
    "collapsed": false
   },
   "outputs": [],
   "source": [
    "# Read .csv files of learners' answers and anonymization maps\n",
    "\n",
    "# # FP101x-3T2015\n",
    "# course_id = \"course-v1:DelftX+FP101x+3T2015\"\n",
    "# course_id_alt = \"FP101x_3T2015\"\n",
    "# anon_file_path = \"survey/FP101x_3T2015_anon-ids.csv\"\n",
    "# pre_survey_file_path = \"survey/FP101x_3T2015_Pre-course_survey.csv\"\n",
    "# post_survey_file_path = \"survey/FP101x_3T2015_Post-course_survey.csv\"\n",
    "\n",
    "# # EX101x-3T2015\n",
    "# course_id = \"course-v1:DelftX+EX101x+3T2015\"\n",
    "# course_id_alt = \"EX101x_3T2015\"\n",
    "# anon_file_path = \"survey/EX101x_3T2015_anon-ids.csv\"\n",
    "# pre_survey_file_path = \"survey/EX101x_3T2015_Pre-course_survey.csv\"\n",
    "# post_survey_file_path = \"survey/EX101x_3T2015_Post-course_survey.csv\"\n",
    "\n",
    "# CTB3365STx-1T2016\n",
    "course_id = \"course-v1:DelftX+CTB3365STx+1T2016\"\n",
    "course_id_alt = \"CTB3365STx_1T2016\"\n",
    "anon_file_path = \"survey/CTB3365STx_1T2016_anon-ids.csv\"\n",
    "pre_survey_file_path = \"survey/CTB3365STx_1T2016_Pre-course_survey.csv\"\n",
    "post_survey_file_path = \"survey/CTB3365STx_1T2016_Post-course_survey.csv\"\n",
    "\n",
    "# Output Folder\n",
    "outputfolderpath = \"motivations/\"\n",
    "if not os.path.exists(outputfolderpath):\n",
    "    os.makedirs(outputfolderpath)"
   ]
  },
  {
   "cell_type": "markdown",
   "metadata": {},
   "source": [
    "## Read global id and anon id into a map"
   ]
  },
  {
   "cell_type": "code",
   "execution_count": 34,
   "metadata": {
    "collapsed": false
   },
   "outputs": [],
   "source": [
    "learner_id_map = {}\n",
    "anon_file = open(anon_file_path, \"r\")\n",
    "id_reader = csv.reader(anon_file)\n",
    "id_reader.next()\n",
    "for row in id_reader:\n",
    "    global_id = row[0].replace(\"\\\"\",\"\")\n",
    "    anonymized_id = row[1].replace(\"\\\"\",\"\")\n",
    "    learner_id_map[anonymized_id] = global_id\n",
    "# print learner_id_map"
   ]
  },
  {
   "cell_type": "markdown",
   "metadata": {},
   "source": [
    "## Read pre-survey from the file"
   ]
  },
  {
   "cell_type": "code",
   "execution_count": 35,
   "metadata": {
    "collapsed": false
   },
   "outputs": [
    {
     "name": "stdout",
     "output_type": "stream",
     "text": [
      "['startDate', 'endDate', 'status', 'ipAddress', 'progress', 'duration', 'finished', 'recordedDate', '_recordId', 'recipientLastName', 'recipientFirstName', 'recipientEmail', 'externalDataReference', 'distributionChannel', 'QID2_BROWSER', 'QID2_VERSION', 'QID2_OS', 'QID2_RESOLUTION', 'QID3', 'QID3_12_TEXT', 'QID4', 'QID4_5_TEXT', 'QID5', 'QID5_6_TEXT', 'QID6', 'QID6_5_TEXT', 'QID7_1', 'QID7_2', 'QID7_3', 'QID7_4', 'QID7_5', 'QID7_6', 'QID7_7', 'QID7_8', 'QID7_9', 'QID8', 'QID59', 'QID10', 'QID11', 'QID12_1', 'QID13', 'QID13_4_TEXT', 'QID14_1', 'QID14_1_TEXT', 'QID14_2', 'QID14_3', 'QID14_4', 'QID14_5', 'QID16', 'QID17', 'QID41_10', 'QID41_11', 'QID41_12', 'QID41_13', 'QID41_14', 'QID41_15', 'QID45', 'QID46', 'QID46_11_TEXT', 'QID48', 'QID49_1', 'QID49_2', 'QID49_3', 'QID49_4', 'QID49_5', 'QID49_6', 'QID49_7', 'QID50_1', 'QID50_2', 'QID50_3', 'QID51_TEXT', 'QID52_1', 'QID52_2', 'QID52_3', 'QID53_TEXT', 'QID54', 'QID58', 'QID61', 'QID62', 'QID62_2_TEXT', 'QID63', 'QID63_2_TEXT', 'QID64', 'QID64_2_TEXT', 'QID19_1', 'QID20', 'QID23_1', 'QID23_2', 'QID24', 'QID25_1', 'QID25_2', 'QID26', 'QID26_9_TEXT', 'QID27', 'QID27_7_TEXT', 'QID28', 'QID28_15_TEXT', 'QID29', 'QID29_15_TEXT', 'QID31_1', 'QID31_2', 'QID32_1', 'QID33', 'QID34_1', 'QID35', 'user_id', 'course_type', 'course_id', 'Q', 'Q_TotalDuration', 'Referer', 'City', 'State', 'Country']\n",
      "114\n",
      "['Start Date', 'End Date', 'Response Type', 'IP Address', 'Progress', 'Duration (in seconds)', 'Finished', 'Recorded Date', 'Response ID', 'Recipient Last Name', 'Recipient First Name', 'Recipient Email', 'External Reference', 'DistributionChannel - Distribution Channel', 'Q3.1_Browser - Browser', 'Q3.1_Version - Version', 'Q3.1_Operating System - Operating System', 'Q3.1_Resolution - Resolution', 'Q3.2 - How did you discover this course? I found\\nout about this course through:', 'Q3.2_12_TEXT - \\xe2\\x80\\xa6 some other way \\xe2\\x80\\xa6', 'Q3.3 - Who told you about this course?', 'Q3.3_5_TEXT - Other \\xe2\\x80\\xa6', 'Q3.4 - Why did you enroll in this course? Choose the answer that best describes yo...', 'Q3.4_6_TEXT - Other \\xe2\\x80\\xa6', 'Q3.5 - How are you pursuing a degree in this field?\\nChoose the answer that best de...', 'Q3.5_5_TEXT - Other \\xe2\\x80\\xa6', 'Q3.6_1 - My general experience with online university courses.', 'Q3.6_2 - My experience with other DelftX courses on edX.', 'Q3.6_3 - My experience with other online Delft University of Technology / DelftX cou...', 'Q3.6_4 - The status and reputation of Delft University of Technology.', 'Q3.6_5 - The possibility of earning a Verified Certificate.', 'Q3.6_6 - The possibility of earning European Credits and a certificate by completing...', 'Q3.6_7 - The possibility of earning Continuous Education Units(CEUs) and a certifica...', 'Q3.6_8 - The relevance of the course topic for my occupation or work.', 'Q3.6_9 - A recommendation from someone else.', 'Q3.7 - How familiar were you with Delft University\\nof Technology prior to this cou...', 'Q56 - How familiar were you with the partners of the GENTLE project (TU Delft, Bu...', 'Q4.2 - How many online courses have you taken\\nbefore?', 'Q4.3 - How many online courses did you complete?', 'Q4.4_1 - Hours:', 'Q4.5 - How do you intend to participate in this\\ncourse? Choose the answer that mos...', 'Q4.5_4_TEXT - Other \\xe2\\x80\\xa6', 'Q4.6_1 - Learn by watching videos, reading and answering quizzes:Learn by solving pr...', 'Q4.6_1_TEXT - Learn by watching videos, reading and answering quizzes:Learn by solving pr...', 'Q4.6_2 - Work with theoretical examples:Work with real world examples', 'Q4.6_3 - Set your own pace (e.g. self-paced course where you set your deadlines):Let...', 'Q4.6_4 - Make your own choices (e.g. work individually or in group, select study top...', 'Q4.6_5 - Learn on your own with low or inexistent support from the course team and p...', 'Q4.7 - How would you rate your level of English proficiency?', 'Q4.8 - How comfortable are you communicating in English?', 'Q38_10 - Open Government in general', 'Q38_11 - Opening (government) data', 'Q38_12 - Using (government) data', 'Q38_13 - Technical aspects of information sharing', 'Q38_14 - Judicial aspects of information sharing', 'Q38_15 - Public values', 'Q42 - To which extent do the following statements apply to your situation? (pleas...', 'Q43 - To which extent do the following statements apply to your situation? (pleas...', 'Q43_11_TEXT - Other reason, namely\\xe2\\x80\\xa6', 'Q45 - Do you already know examples of \\xe2\\x80\\x98Open Government\\xe2\\x80\\x99? And are these positive o...', 'Q46_1 - Array Formulas', 'Q46_2 - Pivot Tables', 'Q46_3 - Named Ranges', 'Q46_4 - PowerMap/PowerQuery', 'Q46_5 - Import Data from Web', 'Q46_6 - SparkLines', 'Q46_7 - Slicers', 'Q47_1 - Formulas', 'Q47_2 - Excel 2013 features', 'Q47_3 - Practical applications', 'Q48 - Can you specify your interest?', 'Q49_1 - Formulas', 'Q49_2 - Excel 2013 features', 'Q49_3 - Practical applications', 'Q50 - Can you specify your expertise?', 'Q51 - What version of Excel do you use? Select all that apply', 'Q55 - Which track of this course are you interested in?', 'Q58 - In which specific part of the course are you interested?', 'Q59 - Do you have knowledge about specific topics related to nuclear energy?', 'Q59_2_TEXT - Yes (please indicate which topic):', 'Q60 - Are there areas of the course that you would like to deepen in the future?', 'Q60_2_TEXT - Yes (please indicate which area):', 'Q61 - Are there topics on nuclear energy that you are interested in, but that are...', 'Q61_2_TEXT - Yes (please indicate which topic):', 'Q15.2_1 - Years', 'Q15.3 - What is your gender?', 'Q15.4_1 - Continent', 'Q15.4_2 - Country', 'Q15.5 - Do you hold a dual nationality?', 'Q15.6_1 - Continent', 'Q15.6_2 - Country', 'Q15.7 - What is the highest degree or level of\\neducation you have completed?', 'Q15.7_9_TEXT - Other \\xe2\\x80\\xa6', 'Q15.8 - Which of the following best describes your\\ncurrent situation?', 'Q15.8_7_TEXT - Other \\xe2\\x80\\xa6', 'Q15.9 - Which of the following most closely matches your job title?', 'Q15.9_15_TEXT - Other \\xe2\\x80\\xa6', 'Q15.10 - Which of the\\nfollowing most closely matches your most recent job title?', 'Q15.10_15_TEXT - Other \\xe2\\x80\\xa6', 'Q15.11_1 - Sector', 'Q15.11_2 - Industry', 'Q15.12_1 - Hours:', 'Q15.13 - Are you allowed to follow this course during working hours?', 'Q15.14_1 - Years:', 'Q15.15 - We are doing a lot of exciting research at\\nDelft University of Technology....', 'user_id', 'course_type', 'course_id', 'Q', 'Q_TotalDuration', 'Referer', 'City', 'State', 'Country']\n",
      "114\n"
     ]
    }
   ],
   "source": [
    "pre_survey_file = open(pre_survey_file_path, \"r\")\n",
    "pre_survey_reader = csv.reader(pre_survey_file)\n",
    "\n",
    "question_id_row = pre_survey_reader.next()\n",
    "print question_id_row\n",
    "print len(question_id_row)\n",
    "question_description_row = pre_survey_reader.next()\n",
    "print question_description_row\n",
    "print len(question_description_row)\n",
    "\n",
    "# Output survey_descriptions\n",
    "survey_descriptions_file_path = outputfolderpath + course_id_alt + \"_pre_survey_description.csv\"\n",
    "with open(survey_descriptions_file_path, 'a') as survey_descriptions_file:\n",
    "    survey_descriptions_file.write(\"question_id, question_description\" + \"\\n\")\n",
    "    for i in range(len(list(question_id_row))):\n",
    "        question_id = course_id + \"_pre_\" + question_id_row[i].replace(\"\\\"\",\"\")\n",
    "        question_description = question_description_row[i].replace(\"\\'\", \"\\\\'\")\n",
    "        if question_id != \"\":\n",
    "            line = question_id + \", \" + question_description\n",
    "            survey_descriptions_file.write(line + \"\\n\")\n",
    "        \n",
    "pre_id_index = list(question_id_row).index(\"user_id\")\n",
    "# print pre_id_index\n",
    "\n",
    "# Output survey_responses\n",
    "survey_responses_file_path = outputfolderpath + course_id_alt + \"_pre_survey_reponse.csv\"\n",
    "with open(survey_responses_file_path, 'a') as survey_responses_file:\n",
    "    survey_responses_file.write(\"course_learner_id, question_id, reponse\" + \"\\n\")\n",
    "    for row in pre_survey_reader:\n",
    "        learner_id = row[pre_id_index]\n",
    "        # print learner_id\n",
    "        if learner_id in learner_id_map.keys():\n",
    "            course_learner_id = course_id + \"_\" + learner_id_map[learner_id]\n",
    "\n",
    "            for i in range(len(list(question_id_row))):\n",
    "                question_id = course_id + \"_pre_\" + question_id_row[i].replace(\"\\\"\",\"\")\n",
    "                answer = row[i]\n",
    "                if answer != \"\":\n",
    "                    line = course_learner_id + \", \" + question_id + \", \" + answer\n",
    "                    survey_responses_file.write(line + \"\\n\")           \n",
    "\n",
    "# Close the pre survey file\n",
    "pre_survey_file.close()"
   ]
  },
  {
   "cell_type": "markdown",
   "metadata": {},
   "source": [
    "## Read post-survey from the file"
   ]
  },
  {
   "cell_type": "code",
   "execution_count": 36,
   "metadata": {
    "collapsed": false
   },
   "outputs": [
    {
     "name": "stdout",
     "output_type": "stream",
     "text": [
      "['startDate', 'endDate', 'status', 'ipAddress', 'progress', 'duration', 'finished', 'recordedDate', '_recordId', 'recipientLastName', 'recipientFirstName', 'recipientEmail', 'externalDataReference', 'distributionChannel', 'QID3_BROWSER', 'QID3_VERSION', 'QID3_OS', 'QID3_RESOLUTION', 'QID5', 'QID5_5_TEXT', 'QID6_TEXT', 'QID9_TEXT', 'QID7', 'QID7_6_TEXT', 'QID11_1', 'QID12', 'QID13_TEXT', 'QID14_TEXT', 'QID15_1', 'QID15_2', 'QID15_3', 'QID16_1', 'QID16_2', 'QID16_3', 'QID16_4', 'QID16_5', 'QID55', 'QID56', 'QID18_1', 'QID19_TEXT', 'QID20_TEXT', 'QID21_1', 'QID21_2', 'QID21_3', 'QID21_4', 'QID21_5', 'QID21_6', 'QID21_7', 'QID21_8', 'QID21_9', 'QID21_10', 'QID22_TEXT', 'QID23_TEXT', 'QID25', 'QID32_TEXT', 'QID26', 'QID27', 'QID28_9', 'QID28_10', 'QID28_11', 'QID28_12', 'QID28_13', 'QID28_14', 'QID42', 'QID43_4', 'QID43_5', 'QID43_6', 'QID43_7', 'QID43_8', 'QID44_4', 'QID44_5', 'QID44_6', 'QID44_7', 'QID44_8', 'QID45_4', 'QID45_5', 'QID45_6', 'QID45_7', 'QID45_8', 'QID29_1', 'QID29_2', 'QID29_3', 'QID29_4', 'QID29_5', 'QID29_6', 'QID29_7', 'QID29_8', 'QID29_9', 'QID29_10', 'QID30_1', 'QID30_2', 'QID30_3', 'QID30_4', 'QID30_5', 'QID46', 'QID47_TEXT', 'QID48', 'QID49', 'QID50', 'QID51_TEXT', 'QID39_TEXT', 'user_id', 'course_id', 'course_type', 'Referer', 'Q', 'Q_TotalDuration', 'City', 'State', 'Country', 'Group_assignments', 'Interactive_materials']\n",
      "112\n",
      "['Start Date', 'End Date', 'Response Type', 'IP Address', 'Progress', 'Duration (in seconds)', 'Finished', 'Recorded Date', 'Response ID', 'Recipient Last Name', 'Recipient First Name', 'Recipient Email', 'External Reference', 'DistributionChannel - Distribution Channel', 'Q4.1_Browser - Browser', 'Q4.1_Version - Version', 'Q4.1_Operating System - Operating System', 'Q4.1_Resolution - Resolution', 'Q4.3 - Since the start of the\\ncourse, how would you describe your participation\\nle...', 'Q4.3_5_TEXT - Other ...', 'Q4.4 - Could you please describe the reason(s) why\\nyou did not start the course?', 'Q4.5 - Could you please describe which specific\\nparts of the course you were inter...', 'Q4.6 - Could you please describe the reason(s) why\\nyou decided not to continue wit...', 'Q4.6_6_TEXT - Other \\xe2\\x80\\xa6', 'Q4.8_1 - Hours:', 'Q4.9 - Did the course meet your expectations? Choose the one that applies the most...', 'Q4.10 - Could you please describe how the course exceeded your expectations?', 'Q4.11 - Could you please describe how the course did not meet your expectations?', 'Q4.12_1 - \\xe2\\x80\\xa6 had an active role on the course forums.', 'Q4.12_2 - \\xe2\\x80\\xa6 adequately responded to questions from students.', 'Q4.12_3 - \\xe2\\x80\\xa6 motivated me to complete this course.', 'Q4.13_1 - \\xe2\\x80\\xa6 Interaction with other students?', 'Q4.13_2 - \\xe2\\x80\\xa6 Helping other students with their course work?', 'Q4.13_3 - \\xe2\\x80\\xa6 Receiving help from other students with your course work?', 'Q4.13_4 - \\xe2\\x80\\xa6 Communicating with the instructor and / or teaching assistants on the for...', 'Q4.13_5 - \\xe2\\x80\\xa6 Using the course to network?', 'Q4.14 - To what extent did you engage with the Learning Tracker?', 'Q4.15 - How helpful was the Learning Tracker in allowing you to better plan your le...', 'Q5.2_1 - Score:', 'Q5.3 - Which one aspect of this course did you like the most? Please explain.', 'Q5.4 - Which one aspect of this course would you like us to improve? Please explai...', 'Q5.5_1 - I learned a lot from this course.', 'Q5.5_2 - I can apply what I have learned in this course in my daily work.', 'Q5.5_3 - This course helps me advance in my career / professional field.', 'Q5.5_4 - This course was well worth my time.', 'Q5.5_5 - I would recommend this course to another person.', 'Q5.5_6 - I would take another course given by this (team of) instructor(s).', 'Q5.5_7 - I would take another course from DelftX.', 'Q5.5_8 - I would consider applying for a professional course by DelftX in a related...', 'Q5.5_9 - I would take another online course from Delft University of Technology.', 'Q5.5_10 - I would consider applying for a professional course by Delft University of...', 'Q5.6 - What do you consider the most valuable thing you have learned in this cours...', 'Q5.7 - After participating in this course, what would\\nyou like to learn next, rela...', 'Q6.2 - How would you rate the difficulty level of the course?', 'Q6.3 - Please elaborate on your answer to the\\nquestion above:', 'Q6.4 - How would you describe the amount of work required for the course?', 'Q6.5 - How would you describe the duration (in weeks) of the course?', 'Q6.6_9 - Open Government in general', 'Q6.6_10 - Opening (government) data', 'Q6.6_11 - Using (government) data', 'Q6.6_12 - Technical aspects of information sharing', 'Q6.6_13 - Judicial aspects of information sharing', 'Q6.6_14 - Public values', 'Q6.7 - Which track did you follow during this course?', 'Q6.8_4 - Topic 1', 'Q6.8_5 - Topic 2', 'Q6.8_6 - Topic 3', 'Q6.8_7 - Topic 4', 'Q6.8_8 - Topic 5', 'Q6.9_4 - Topic 1', 'Q6.9_5 - Topic 2', 'Q6.9_6 - Topic 3', 'Q6.9_7 - Topic 4', 'Q6.9_8 - Topic 5', 'Q6.10_4 - Topic 1', 'Q6.10_5 - Topic 2', 'Q6.10_6 - Topic 3', 'Q6.10_7 - Topic 4', 'Q6.10_8 - Topic 5', 'Q6.11_1 - The course activities had the right balance between reading, viewing, and d...', 'Q6.11_2 - The structure of the course allowed me to study whenever was most convenien...', 'Q6.11_3 - It was always clear what was expected from me for particular assignments or...', 'Q6.11_4 - The content of the assignments matched the content of the course.', 'Q6.11_5 - The edX website is user friendly.', 'Q6.11_6 - The edX website allows you to easily find the course materials and assignme...', 'Q6.11_7 - The Blackboard website is user friendly.', 'Q6.11_8 - The Blackboard website allows you to easily find the course materials and a...', 'Q6.11_9 - The TU Delft ProfEd website is user friendly', 'Q6.11_10 - The TU Delft ProfEd website allows you to easily find the course materials...', 'Q6.12_1 - Course materials to view / listen to (i.e. audio recordings, animations, vi...', 'Q6.12_2 - Course materials to read (i.e. webpages, e-books, articles)', 'Q6.12_3 - Interactive course materials (i.e. simulations, games)', 'Q6.12_4 - Individual course assignments (i.e. quizzes, exercises, exams)', 'Q6.12_5 - Group course assignments (i.e. discussions, peer reviews, projects)', 'Q40 - Can you apply the knowledge learned in this course to your profession?', 'Q41 - Which specific knowledge from this course will be applicable to you in your...', 'Q42 - Would you consider enrolling in an additional Professional Education or onl...', 'Q43 - How much would you be willing to pay for this additional Professional Educa...', 'Q44 - Your final assignment - the peer review - consisted of several stages inclu...', 'Q45 - Would you like to elaborate on your answer?', 'Q6.16 - If you have specific suggestions, praise, or other comments for the course...', 'user_id', 'course_id', 'course_type', 'Referer', 'Q', 'Q_TotalDuration', 'City', 'State', 'Country', 'Group_assignments', 'Interactive_materials']\n",
      "112\n"
     ]
    }
   ],
   "source": [
    "post_survey_file = open(post_survey_file_path, \"r\")\n",
    "post_survey_reader = csv.reader(post_survey_file)\n",
    "\n",
    "question_id_row = post_survey_reader.next()\n",
    "print question_id_row\n",
    "print len(question_id_row)\n",
    "question_description_row = post_survey_reader.next()\n",
    "print question_description_row\n",
    "print len(question_description_row)\n",
    "\n",
    "# Output survey_descriptions\n",
    "survey_descriptions_file_path = outputfolderpath + course_id_alt + \"_post_survey_description.csv\"\n",
    "with open(survey_descriptions_file_path, 'a') as survey_descriptions_file:\n",
    "    survey_descriptions_file.write(\"question_id, question_description\" + \"\\n\")\n",
    "    for i in range(len(list(question_id_row))):\n",
    "        question_id = course_id + \"_post_\" + question_id_row[i].replace(\"\\\"\",\"\")\n",
    "        question_description = question_description_row[i].replace(\"\\'\", \"\\\\'\")\n",
    "        if question_id != \"\":\n",
    "            line = question_id + \", \" + question_description\n",
    "            survey_descriptions_file.write(line + \"\\n\")\n",
    "        \n",
    "post_id_index = list(question_id_row).index(\"user_id\")\n",
    "\n",
    "# Output survey_responses\n",
    "survey_responses_file_path = outputfolderpath + course_id_alt + \"_post_survey_reponse.csv\"\n",
    "with open(survey_responses_file_path, 'a') as survey_responses_file:\n",
    "    survey_responses_file.write(\"course_learner_id, question_id, reponse\" + \"\\n\")\n",
    "    for row in post_survey_reader:\n",
    "        learner_id = row[post_id_index]\n",
    "        if learner_id in learner_id_map.keys():\n",
    "            course_learner_id = course_id + \"_\" + learner_id_map[learner_id]\n",
    "\n",
    "            for i in range(len(list(question_id_row))):\n",
    "                question_id = course_id + \"_post_\" + question_id_row[i].replace(\"\\\"\",\"\")\n",
    "                answer = row[i]\n",
    "                if answer != \"\":\n",
    "                    line = course_learner_id + \", \" + question_id + \", \" + answer\n",
    "                    survey_responses_file.write(line + \"\\n\") \n",
    "\n",
    "# Close the post survey file\n",
    "post_survey_file.close()"
   ]
  },
  {
   "cell_type": "code",
   "execution_count": null,
   "metadata": {
    "collapsed": true
   },
   "outputs": [],
   "source": []
  },
  {
   "cell_type": "code",
   "execution_count": null,
   "metadata": {
    "collapsed": true
   },
   "outputs": [],
   "source": []
  }
 ],
 "metadata": {
  "kernelspec": {
   "display_name": "Python 2",
   "language": "python",
   "name": "python2"
  },
  "language_info": {
   "codemirror_mode": {
    "name": "ipython",
    "version": 2
   },
   "file_extension": ".py",
   "mimetype": "text/x-python",
   "name": "python",
   "nbconvert_exporter": "python",
   "pygments_lexer": "ipython2",
   "version": "2.7.6"
  }
 },
 "nbformat": 4,
 "nbformat_minor": 0
}
