{
 "cells": [
  {
   "cell_type": "markdown",
   "metadata": {},
   "source": [
    "# Grade Processing\n",
    "This notebook is used for generating .csv files which contains learners' weekly grades."
   ]
  },
  {
   "cell_type": "markdown",
   "metadata": {},
   "source": [
    "## Getting learners' grading information from DelftX database\n",
    "We use following SQL statements getting grading information of all passers. The generated table is named as \"EX101x_3T2015_pass_student_allrecords.csv\"\n",
    "\n",
    "```sql\n",
    "SELECT \n",
    "\tassessments.course_learner_id as course_learner_id, \n",
    "\tassessments.grade as grade, \n",
    "\tassessments.max_grade as max_grade,\n",
    "\tquestions.question_weight as question_weight,\n",
    "\tsubmissions.question_id as question_id,\n",
    "\tcourse_elements.week as relevant_week,\n",
    "\tsubmissions.submission_timestamp as submission_timestamp\n",
    "FROM \n",
    "\tDelftX.assessments AS assessments\n",
    "\tJOIN DelftX.submissions AS submissions\n",
    "\tON assessments.assessment_id = submissions.submission_id\n",
    "\tJOIN DelftX.quiz_questions AS questions\n",
    "\tON submissions.question_id = questions.question_id\n",
    "    JOIN course_elements\n",
    "    ON course_elements.element_id = questions.question_id\n",
    "WHERE\n",
    "\tassessments.course_learner_id IN (\n",
    "\t\tSELECT \n",
    "\t\t\tcourse_learner_id \n",
    "\t\tFROM \n",
    "\t\t\tDelftX.course_learner\n",
    "\t\tWHERE \n",
    "\t\t\tDelftX.course_learner.certificate_status <> \"notpassing\")\n",
    "\tAND questions.question_weight > 0\n",
    "\tAND assessments.grade > 0\n",
    "\tAND assessments.max_grade > 0\n",
    "    AND course_elements.course_id = \"course-v1:DelftX+EX101x+3T2015\"\n",
    "```"
   ]
  },
  {
   "cell_type": "code",
   "execution_count": 1,
   "metadata": {
    "collapsed": true
   },
   "outputs": [],
   "source": [
    "import pandas as pd\n",
    "import numpy as np"
   ]
  },
  {
   "cell_type": "code",
   "execution_count": 13,
   "metadata": {
    "collapsed": true
   },
   "outputs": [],
   "source": [
    "# EX101x relevant csv\n",
    "# grade_allrecords = \"EX101x_3T2015_pass_student_allrecords.csv\"\n",
    "# course_element_replace = \"\"\n",
    "# max_score_byweek = [14.0, 17.0, 23.0, 31.0, 25.5, 18.5, 30.0, 31.0]\n",
    "\n",
    "# FP101x relevant csv\n",
    "grade_allrecords = \"FP101x_3T2015_pass_student_allrecords.csv\"\n",
    "course_element_replace = \"\"\n",
    "max_score_byweek = [9, 45, 53, 45, 43, 18, 50, 23]\n",
    "\n",
    "# CTB3365STx\n",
    "# grade_allrecords = \"CTB3365STx_1T2016_pass_student_allrecords.csv\"\n",
    "# course_element_replace = \"CTB3365STx_1T2016_GradeAssignList.csv\"\n",
    "# max_score_byweek = [8, 15, 7, 12, 6, 13]\n",
    "\n",
    "# RI101x\n",
    "# grade_allrecords = \"RI101x_1T2016_pass_student_allrecords.csv\"\n",
    "# course_element_replace = \"RI101x_1T2016_chapter_split.csv\"\n",
    "# max_score_byweek = [6, 11, 10, 12, 16, 12, 14]"
   ]
  },
  {
   "cell_type": "code",
   "execution_count": 14,
   "metadata": {
    "collapsed": false
   },
   "outputs": [],
   "source": [
    "df_grade_allrecords = pd.read_csv(grade_allrecords)\n",
    "df_grade_allrecords.rename(columns={'question_id': 'element_id'}, inplace=True)"
   ]
  },
  {
   "cell_type": "code",
   "execution_count": 15,
   "metadata": {
    "collapsed": false
   },
   "outputs": [],
   "source": [
    "# remove redundant records, since edx only count the last submission of each learner on each problem\n",
    "df_grade_allrecords = df_grade_allrecords.sort_values(['submission_timestamp'], ascending=[True])\n",
    "df_grade_allrecords.reset_index(drop=True, inplace=True)\n",
    "df_grade_allrecords = df_grade_allrecords.drop_duplicates(['course_learner_id', 'element_id'], keep='last')\n",
    "# print df_grade_allrecords.iloc[2]['element_id']\n",
    "# print df_grade_allrecords.iloc[3]['element_id']"
   ]
  },
  {
   "cell_type": "code",
   "execution_count": 16,
   "metadata": {
    "collapsed": false
   },
   "outputs": [],
   "source": [
    "# tune relevant week of course count\n",
    "if course_element_replace != \"\":\n",
    "    df_grade_allrecords = df_grade_allrecords.drop('relevant_week', axis=1, inplace=True)\n",
    "    df_course_element = pd.read_csv(course_element_replace)\n",
    "    df_grade_allrecords = df_grade_allrecords.merge(df_course_element, on='relevant_week')"
   ]
  },
  {
   "cell_type": "code",
   "execution_count": 17,
   "metadata": {
    "collapsed": false
   },
   "outputs": [],
   "source": [
    "# Calculate real grade by question_weight * grade/max_grade\n",
    "df_grade_allrecords[['question_weight', 'grade', 'max_grade']] = df_grade_allrecords[['question_weight', 'grade', 'max_grade']].astype(float)\n",
    "df_grade_allrecords['real_grade'] = df_grade_allrecords['question_weight'] * df_grade_allrecords['grade'] / df_grade_allrecords['max_grade']"
   ]
  },
  {
   "cell_type": "code",
   "execution_count": 18,
   "metadata": {
    "collapsed": false
   },
   "outputs": [],
   "source": [
    "# Aggregation\n",
    "df_grade_allrecords = df_grade_allrecords[['course_learner_id','relevant_week','real_grade']]\n",
    "# print df_grade_allrecords.head(10)"
   ]
  },
  {
   "cell_type": "code",
   "execution_count": 19,
   "metadata": {
    "collapsed": false
   },
   "outputs": [],
   "source": [
    "# df_grade_allrecords = df_grade_allrecords.groupby(by = ['course_learner_id', 'relevant_week'])['real_grade'].sum()\n",
    "df_grade_allrecords = df_grade_allrecords.groupby(['course_learner_id', 'relevant_week'], as_index=False).sum()\n",
    "# print df_grade_allrecords.head(10)"
   ]
  },
  {
   "cell_type": "code",
   "execution_count": 20,
   "metadata": {
    "collapsed": false
   },
   "outputs": [],
   "source": [
    "# replace relevant week values\n",
    "df_grade_allrecords['relevant_week'] = df_grade_allrecords['relevant_week'].astype(str)\n",
    "replace_week_name = lambda x: 'Week_' + x\n",
    "df_grade_allrecords['relevant_week'] = df_grade_allrecords['relevant_week'].apply(replace_week_name)\n",
    "# print df_grade_allrecords.head(10)"
   ]
  },
  {
   "cell_type": "code",
   "execution_count": 21,
   "metadata": {
    "collapsed": false
   },
   "outputs": [],
   "source": [
    "learner_grade_byweek = df_grade_allrecords.pivot(index='course_learner_id', columns='relevant_week', values='real_grade')\n",
    "learner_grade_byweek = learner_grade_byweek.fillna(0)\n",
    "# print learner_grade_byweek.head(10)"
   ]
  },
  {
   "cell_type": "code",
   "execution_count": 22,
   "metadata": {
    "collapsed": false
   },
   "outputs": [],
   "source": [
    "# print learner_grade_byweek.columns.values.tolist()\n",
    "def learner_grade_alt(learner_grade_byweek, max_score_byweek):\n",
    "    learner_grade_byweek_alt = learner_grade_byweek\n",
    "    weeklist = learner_grade_byweek.columns.values.tolist()\n",
    "    for (week, maxgrade) in zip(weeklist, max_score_byweek):\n",
    "        learner_grade_byweek_alt[week] = learner_grade_byweek_alt[week] / maxgrade\n",
    "    return learner_grade_byweek_alt\n",
    "\n",
    "learner_grade_byweek_alt = learner_grade_alt(learner_grade_byweek, max_score_byweek)\n",
    "# print learner_grade_byweek_alt.head(10)"
   ]
  },
  {
   "cell_type": "code",
   "execution_count": 23,
   "metadata": {
    "collapsed": false
   },
   "outputs": [],
   "source": [
    "# Output the result to .csv files\n",
    "# Since different courses have different grading scedules, we output two types of results.\n",
    "course_id = grade_allrecords.split(\"_\")[0] + \"_\" + grade_allrecords.split(\"_\")[1]\n",
    "outputfile = course_id + \"_grade_byweek.csv\"\n",
    "outputfile_alt = course_id + \"_grade_byweek_alt.csv\"\n",
    "# print outputfile\n",
    "# print outputfile_alt\n",
    "learner_grade_byweek.to_csv(outputfile)\n",
    "learner_grade_byweek_alt.to_csv(outputfile_alt)"
   ]
  },
  {
   "cell_type": "code",
   "execution_count": null,
   "metadata": {
    "collapsed": true
   },
   "outputs": [],
   "source": []
  }
 ],
 "metadata": {
  "kernelspec": {
   "display_name": "Python 2",
   "language": "python",
   "name": "python2"
  },
  "language_info": {
   "codemirror_mode": {
    "name": "ipython",
    "version": 2
   },
   "file_extension": ".py",
   "mimetype": "text/x-python",
   "name": "python",
   "nbconvert_exporter": "python",
   "pygments_lexer": "ipython2",
   "version": "2.7.6"
  }
 },
 "nbformat": 4,
 "nbformat_minor": 0
}
