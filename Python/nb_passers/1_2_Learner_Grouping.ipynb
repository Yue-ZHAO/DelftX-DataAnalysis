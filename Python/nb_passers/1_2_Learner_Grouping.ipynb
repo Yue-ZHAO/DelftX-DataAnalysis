{
 "cells": [
  {
   "cell_type": "markdown",
   "metadata": {},
   "source": [
    "# Learner Grouping\n",
    "This notebook is used to group learners based on the week they passed the course. Since each course have different grading schedules, we have to manually code them one by one."
   ]
  },
  {
   "cell_type": "code",
   "execution_count": 39,
   "metadata": {
    "collapsed": true
   },
   "outputs": [],
   "source": [
    "import numpy as np\n",
    "import pandas as pd"
   ]
  },
  {
   "cell_type": "markdown",
   "metadata": {},
   "source": [
    "## Course FP101x-3T2015\n",
    "In course FP101x-3T2015, there are 288 problems in total. 3 of them have 0 weight and 1 of them has 2 weights, which means that learners can got 286 points in total. Students who have more than 60% points are passers.\n",
    "\n",
    "However, in our experiments, we find that there are a small number of learners who have no enough grades but are tagged as \"Passers\". So I release the passing threshold a little (from 171.6 to 170). Then there are still 8 of 1143 passers who do not have enough grades finally. Since the number of these passers is quite small, we ignore them."
   ]
  },
  {
   "cell_type": "code",
   "execution_count": 40,
   "metadata": {
    "collapsed": false
   },
   "outputs": [],
   "source": [
    "def passweek_detect (df, threshold):\n",
    "    # list the week, learners' ids are in the indexes \n",
    "    weeklist = df.columns.values.tolist()[1:]\n",
    "    df['total_grade'] = 0\n",
    "    df['group'] = \"NotEnough\"\n",
    "    \n",
    "    for week in weeklist:\n",
    "        df['total_grade'] = df['total_grade'] + df.loc[: , week]\n",
    "        df.ix[(df.total_grade>=threshold) & (df.group==\"NotEnough\"), 'group'] = week\n",
    "    \n",
    "    # return a dataframe with columns: week_1 ... week_n, total_grade, group\n",
    "    return df"
   ]
  },
  {
   "cell_type": "code",
   "execution_count": 41,
   "metadata": {
    "collapsed": false
   },
   "outputs": [
    {
     "name": "stdout",
     "output_type": "stream",
     "text": [
      "                        course_learner_id  Week_1  Week_2  Week_3  Week_4  \\\n",
      "0  course-v1:DelftX+FP101x+3T2015_1001841     9.0    45.0    53.0    45.0   \n",
      "1  course-v1:DelftX+FP101x+3T2015_1004052     7.0    42.0    51.0    40.0   \n",
      "2   course-v1:DelftX+FP101x+3T2015_100436     9.0    44.0    53.0    45.0   \n",
      "3  course-v1:DelftX+FP101x+3T2015_1010541     6.0    44.0    51.0    39.0   \n",
      "4  course-v1:DelftX+FP101x+3T2015_1011509     9.0    44.0    52.0    44.0   \n",
      "5  course-v1:DelftX+FP101x+3T2015_1012204     6.0    41.0    50.0    42.0   \n",
      "6  course-v1:DelftX+FP101x+3T2015_1017528     9.0    44.0    53.0    45.0   \n",
      "7  course-v1:DelftX+FP101x+3T2015_1024227     6.0    43.0    45.0    42.0   \n",
      "8  course-v1:DelftX+FP101x+3T2015_1024923     7.0    42.0    49.0    36.0   \n",
      "9  course-v1:DelftX+FP101x+3T2015_1035915     6.0    41.0    17.0    22.0   \n",
      "\n",
      "   Week_5  Week_6  Week_7  Week_8  \n",
      "0    43.0    18.0    49.0    23.0  \n",
      "1    32.0    13.0    45.0    18.0  \n",
      "2    40.0    18.0    48.0    23.0  \n",
      "3    33.0    17.0    48.0    23.0  \n",
      "4    43.0    16.0    27.0     2.0  \n",
      "5    28.0    12.0    11.0     0.0  \n",
      "6    43.0    18.0    48.0    22.0  \n",
      "7    30.0     0.0    37.0     0.0  \n",
      "8    26.0    12.0     7.0     0.0  \n",
      "9     9.0    18.0    24.0    20.0  \n",
      "['Week_1', 'Week_2', 'Week_3', 'Week_4', 'Week_5', 'Week_6', 'Week_7', 'Week_8']\n"
     ]
    }
   ],
   "source": [
    "# Read data from csv\n",
    "learner_grade_byweek = pd.read_csv(\"FP101x_3T2015_grade_byweek.csv\")\n",
    "print learner_grade_byweek.head(10)\n",
    "weeklist = learner_grade_byweek.columns.values.tolist()[1:]\n",
    "print weeklist"
   ]
  },
  {
   "cell_type": "code",
   "execution_count": 42,
   "metadata": {
    "collapsed": false
   },
   "outputs": [
    {
     "name": "stdout",
     "output_type": "stream",
     "text": [
      "                        course_learner_id  Week_1  Week_2  Week_3  Week_4  \\\n",
      "0  course-v1:DelftX+FP101x+3T2015_1001841     9.0    45.0    53.0    45.0   \n",
      "1  course-v1:DelftX+FP101x+3T2015_1004052     7.0    42.0    51.0    40.0   \n",
      "2   course-v1:DelftX+FP101x+3T2015_100436     9.0    44.0    53.0    45.0   \n",
      "3  course-v1:DelftX+FP101x+3T2015_1010541     6.0    44.0    51.0    39.0   \n",
      "4  course-v1:DelftX+FP101x+3T2015_1011509     9.0    44.0    52.0    44.0   \n",
      "5  course-v1:DelftX+FP101x+3T2015_1012204     6.0    41.0    50.0    42.0   \n",
      "6  course-v1:DelftX+FP101x+3T2015_1017528     9.0    44.0    53.0    45.0   \n",
      "7  course-v1:DelftX+FP101x+3T2015_1024227     6.0    43.0    45.0    42.0   \n",
      "8  course-v1:DelftX+FP101x+3T2015_1024923     7.0    42.0    49.0    36.0   \n",
      "9  course-v1:DelftX+FP101x+3T2015_1035915     6.0    41.0    17.0    22.0   \n",
      "\n",
      "   Week_5  Week_6  Week_7  Week_8  total_grade      group  \n",
      "0    43.0    18.0    49.0    23.0        285.0     Week_5  \n",
      "1    32.0    13.0    45.0    18.0        248.0     Week_5  \n",
      "2    40.0    18.0    48.0    23.0        280.0     Week_5  \n",
      "3    33.0    17.0    48.0    23.0        261.0     Week_5  \n",
      "4    43.0    16.0    27.0     2.0        237.0     Week_5  \n",
      "5    28.0    12.0    11.0     0.0        190.0     Week_6  \n",
      "6    43.0    18.0    48.0    22.0        282.0     Week_5  \n",
      "7    30.0     0.0    37.0     0.0        203.0     Week_7  \n",
      "8    26.0    12.0     7.0     0.0        179.0     Week_6  \n",
      "9     9.0    18.0    24.0    20.0        157.0  NotEnough  \n"
     ]
    }
   ],
   "source": [
    "# Generate their groups\n",
    "learner_grade_byweek = passweek_detect(learner_grade_byweek, 170)\n",
    "print learner_grade_byweek.head(10)"
   ]
  },
  {
   "cell_type": "code",
   "execution_count": 43,
   "metadata": {
    "collapsed": false
   },
   "outputs": [
    {
     "name": "stdout",
     "output_type": "stream",
     "text": [
      "(1135, 11)\n",
      "                         course_learner_id   group\n",
      "0   course-v1:DelftX+FP101x+3T2015_1001841  Week_5\n",
      "1   course-v1:DelftX+FP101x+3T2015_1004052  Week_5\n",
      "2    course-v1:DelftX+FP101x+3T2015_100436  Week_5\n",
      "3   course-v1:DelftX+FP101x+3T2015_1010541  Week_5\n",
      "4   course-v1:DelftX+FP101x+3T2015_1011509  Week_5\n",
      "5   course-v1:DelftX+FP101x+3T2015_1012204  Week_6\n",
      "6   course-v1:DelftX+FP101x+3T2015_1017528  Week_5\n",
      "7   course-v1:DelftX+FP101x+3T2015_1024227  Week_7\n",
      "8   course-v1:DelftX+FP101x+3T2015_1024923  Week_6\n",
      "10  course-v1:DelftX+FP101x+3T2015_1039505  Week_5\n",
      "(690, 2)\n",
      "(237, 2)\n",
      "(183, 2)\n",
      "(25, 2)\n"
     ]
    }
   ],
   "source": [
    "# Output results\n",
    "learner_grade_byweek = learner_grade_byweek.drop(learner_grade_byweek[learner_grade_byweek.group == \"NotEnough\"].index)\n",
    "print learner_grade_byweek.shape\n",
    "learner_group = learner_grade_byweek[[\"course_learner_id\", \"group\"]]\n",
    "print learner_group.head(10)\n",
    "learner_group.to_csv(\"FP101x_3T2015_group.csv\", index=False)\n",
    "print learner_group[learner_group.group == \"Week_5\"].shape\n",
    "print learner_group[learner_group.group == \"Week_6\"].shape\n",
    "print learner_group[learner_group.group == \"Week_7\"].shape\n",
    "print learner_group[learner_group.group == \"Week_8\"].shape"
   ]
  },
  {
   "cell_type": "code",
   "execution_count": 44,
   "metadata": {
    "collapsed": false
   },
   "outputs": [],
   "source": [
    "# Generate a new dataframe whose columns are course_learner_id, score, rel_week, group\n",
    "def trans_grade_byweek(df, weeklist):\n",
    "    df_trans = pd.DataFrame()\n",
    "    for week in weeklist:\n",
    "        data = df.loc[: , [\"course_learner_id\", week, \"group\"]]\n",
    "        data['rel_week'] = week\n",
    "        data.rename(columns={week: 'score'}, inplace=True)\n",
    "        df_trans = df_trans.append(data)\n",
    "    \n",
    "    df_trans = df_trans.sort_values(['course_learner_id', \"rel_week\"], ascending=[True, True])\n",
    "    return df_trans"
   ]
  },
  {
   "cell_type": "code",
   "execution_count": 45,
   "metadata": {
    "collapsed": false
   },
   "outputs": [
    {
     "name": "stdout",
     "output_type": "stream",
     "text": [
      "                        course_learner_id    Week_1    Week_2    Week_3  \\\n",
      "0  course-v1:DelftX+FP101x+3T2015_1001841  1.000000  1.000000  1.000000   \n",
      "1  course-v1:DelftX+FP101x+3T2015_1004052  0.777778  0.933333  0.962264   \n",
      "2   course-v1:DelftX+FP101x+3T2015_100436  1.000000  0.977778  1.000000   \n",
      "3  course-v1:DelftX+FP101x+3T2015_1010541  0.666667  0.977778  0.962264   \n",
      "4  course-v1:DelftX+FP101x+3T2015_1011509  1.000000  0.977778  0.981132   \n",
      "5  course-v1:DelftX+FP101x+3T2015_1012204  0.666667  0.911111  0.943396   \n",
      "6  course-v1:DelftX+FP101x+3T2015_1017528  1.000000  0.977778  1.000000   \n",
      "7  course-v1:DelftX+FP101x+3T2015_1024227  0.666667  0.955556  0.849057   \n",
      "8  course-v1:DelftX+FP101x+3T2015_1024923  0.777778  0.933333  0.924528   \n",
      "9  course-v1:DelftX+FP101x+3T2015_1039505  0.888889  1.000000  0.981132   \n",
      "\n",
      "     Week_4    Week_5    Week_6  Week_7    Week_8   group  \n",
      "0  1.000000  1.000000  1.000000    0.98  1.000000  Week_5  \n",
      "1  0.888889  0.744186  0.722222    0.90  0.782609  Week_5  \n",
      "2  1.000000  0.930233  1.000000    0.96  1.000000  Week_5  \n",
      "3  0.866667  0.767442  0.944444    0.96  1.000000  Week_5  \n",
      "4  0.977778  1.000000  0.888889    0.54  0.086957  Week_5  \n",
      "5  0.933333  0.651163  0.666667    0.22  0.000000  Week_6  \n",
      "6  1.000000  1.000000  1.000000    0.96  0.956522  Week_5  \n",
      "7  0.933333  0.697674  0.000000    0.74  0.000000  Week_7  \n",
      "8  0.800000  0.604651  0.666667    0.14  0.000000  Week_6  \n",
      "9  1.000000  1.000000  1.000000    0.98  0.956522  Week_5  \n",
      "                        course_learner_id     score   group rel_week\n",
      "0  course-v1:DelftX+FP101x+3T2015_1001841  1.000000  Week_5   Week_1\n",
      "0  course-v1:DelftX+FP101x+3T2015_1001841  1.000000  Week_5   Week_2\n",
      "0  course-v1:DelftX+FP101x+3T2015_1001841  1.000000  Week_5   Week_3\n",
      "0  course-v1:DelftX+FP101x+3T2015_1001841  1.000000  Week_5   Week_4\n",
      "0  course-v1:DelftX+FP101x+3T2015_1001841  1.000000  Week_5   Week_5\n",
      "0  course-v1:DelftX+FP101x+3T2015_1001841  1.000000  Week_5   Week_6\n",
      "0  course-v1:DelftX+FP101x+3T2015_1001841  0.980000  Week_5   Week_7\n",
      "0  course-v1:DelftX+FP101x+3T2015_1001841  1.000000  Week_5   Week_8\n",
      "1  course-v1:DelftX+FP101x+3T2015_1004052  0.777778  Week_5   Week_1\n",
      "1  course-v1:DelftX+FP101x+3T2015_1004052  0.933333  Week_5   Week_2\n"
     ]
    }
   ],
   "source": [
    "learner_grade_byweek_alt = pd.read_csv(\"FP101x_3T2015_grade_byweek_alt.csv\")\n",
    "learner_grade_byweek_alt = learner_grade_byweek_alt.merge(learner_group, on=\"course_learner_id\")\n",
    "print learner_grade_byweek_alt.head(10)\n",
    "learner_grade_distribution = trans_grade_byweek(learner_grade_byweek_alt, weeklist)\n",
    "learner_grade_distribution.to_csv(\"FP101x_3T2015_grade_distribution.csv\", index=False)\n",
    "print learner_grade_distribution.head(10)"
   ]
  },
  {
   "cell_type": "markdown",
   "metadata": {},
   "source": [
    "## Course EX101x-3T2015\n",
    "Course EX101x-3T2015 has a similar grading schedule to FP101x-3T2015. Therefore, we use the same functions defined before.\n",
    "\n",
    "However, in our experiments, we also find that there are a small number of learners who have no enough grades but are tagged as \"Passers\". So I release the passing threshold a little (from 105.6 to 105). Then there are still 11 of 1156 passers who do not have enough grades finally. Since the number of these passers is quite small, we ignore them."
   ]
  },
  {
   "cell_type": "code",
   "execution_count": 46,
   "metadata": {
    "collapsed": true
   },
   "outputs": [],
   "source": [
    "# Read data from csv\n",
    "learner_grade_byweek = pd.read_csv(\"EX101x_3T2015_grade_byweek.csv\")\n",
    "weeklist = learner_grade_byweek.columns.values.tolist()[1:]"
   ]
  },
  {
   "cell_type": "code",
   "execution_count": 47,
   "metadata": {
    "collapsed": true
   },
   "outputs": [],
   "source": [
    "# Generate their groups\n",
    "learner_grade_byweek = passweek_detect(learner_grade_byweek, 105)"
   ]
  },
  {
   "cell_type": "code",
   "execution_count": 48,
   "metadata": {
    "collapsed": false
   },
   "outputs": [
    {
     "name": "stdout",
     "output_type": "stream",
     "text": [
      "(1145, 11)\n",
      "                         course_learner_id   group\n",
      "0   course-v1:DelftX+EX101x+3T2015_1021198  Week_5\n",
      "1   course-v1:DelftX+EX101x+3T2015_1023643  Week_5\n",
      "2   course-v1:DelftX+EX101x+3T2015_1024625  Week_5\n",
      "3   course-v1:DelftX+EX101x+3T2015_1029720  Week_6\n",
      "4   course-v1:DelftX+EX101x+3T2015_1030769  Week_5\n",
      "5   course-v1:DelftX+EX101x+3T2015_1034392  Week_5\n",
      "6     course-v1:DelftX+EX101x+3T2015_10394  Week_7\n",
      "7   course-v1:DelftX+EX101x+3T2015_1053433  Week_6\n",
      "8   course-v1:DelftX+EX101x+3T2015_1055102  Week_6\n",
      "10   course-v1:DelftX+EX101x+3T2015_106677  Week_5\n",
      "(448, 2)\n",
      "(450, 2)\n",
      "(210, 2)\n",
      "(37, 2)\n"
     ]
    }
   ],
   "source": [
    "# Output results\n",
    "learner_grade_byweek = learner_grade_byweek.drop(learner_grade_byweek[learner_grade_byweek.group == \"NotEnough\"].index)\n",
    "print learner_grade_byweek.shape\n",
    "learner_group = learner_grade_byweek[[\"course_learner_id\", \"group\"]]\n",
    "print learner_group.head(10)\n",
    "learner_group.to_csv(\"EX101x_3T2015_group.csv\", index=False)\n",
    "print learner_group[learner_group.group == \"Week_5\"].shape\n",
    "print learner_group[learner_group.group == \"Week_6\"].shape\n",
    "print learner_group[learner_group.group == \"Week_7\"].shape\n",
    "print learner_group[learner_group.group == \"Week_8\"].shape"
   ]
  },
  {
   "cell_type": "code",
   "execution_count": 49,
   "metadata": {
    "collapsed": false
   },
   "outputs": [
    {
     "name": "stdout",
     "output_type": "stream",
     "text": [
      "                        course_learner_id    Week_1    Week_2    Week_3  \\\n",
      "0  course-v1:DelftX+EX101x+3T2015_1021198  0.857143  0.882353  1.000000   \n",
      "1  course-v1:DelftX+EX101x+3T2015_1023643  1.000000  1.000000  1.000000   \n",
      "2  course-v1:DelftX+EX101x+3T2015_1024625  1.000000  1.000000  0.913043   \n",
      "3  course-v1:DelftX+EX101x+3T2015_1029720  0.928571  0.882353  1.000000   \n",
      "4  course-v1:DelftX+EX101x+3T2015_1030769  1.000000  1.000000  1.000000   \n",
      "5  course-v1:DelftX+EX101x+3T2015_1034392  1.000000  1.000000  1.000000   \n",
      "6    course-v1:DelftX+EX101x+3T2015_10394  0.928571  1.000000  0.869565   \n",
      "7  course-v1:DelftX+EX101x+3T2015_1053433  0.973214  0.823529  0.869565   \n",
      "8  course-v1:DelftX+EX101x+3T2015_1055102  0.500000  1.000000  1.000000   \n",
      "9   course-v1:DelftX+EX101x+3T2015_106677  1.000000  1.000000  0.956522   \n",
      "\n",
      "     Week_4    Week_5    Week_6    Week_7    Week_8   group  \n",
      "0  1.000000  0.960784  0.945946  0.550000  0.258065  Week_5  \n",
      "1  0.948387  1.000000  1.000000  0.650000  0.493548  Week_5  \n",
      "2  1.000000  0.882353  0.821622  0.000000  0.000000  Week_5  \n",
      "3  0.967742  0.725490  0.805405  0.600000  0.983871  Week_6  \n",
      "4  1.000000  0.984314  1.000000  1.000000  1.000000  Week_5  \n",
      "5  0.978495  0.921569  0.935135  0.550000  0.664516  Week_5  \n",
      "6  0.967742  0.529412  0.594595  0.683333  0.231183  Week_7  \n",
      "7  0.754839  0.807843  0.821622  0.633333  0.578495  Week_6  \n",
      "8  1.000000  1.000000  0.983784  0.500000  0.935484  Week_6  \n",
      "9  1.000000  1.000000  0.108108  0.466667  0.000000  Week_5  \n",
      "                        course_learner_id     score   group rel_week\n",
      "0  course-v1:DelftX+EX101x+3T2015_1021198  0.857143  Week_5   Week_1\n",
      "0  course-v1:DelftX+EX101x+3T2015_1021198  0.882353  Week_5   Week_2\n",
      "0  course-v1:DelftX+EX101x+3T2015_1021198  1.000000  Week_5   Week_3\n",
      "0  course-v1:DelftX+EX101x+3T2015_1021198  1.000000  Week_5   Week_4\n",
      "0  course-v1:DelftX+EX101x+3T2015_1021198  0.960784  Week_5   Week_5\n",
      "0  course-v1:DelftX+EX101x+3T2015_1021198  0.945946  Week_5   Week_6\n",
      "0  course-v1:DelftX+EX101x+3T2015_1021198  0.550000  Week_5   Week_7\n",
      "0  course-v1:DelftX+EX101x+3T2015_1021198  0.258065  Week_5   Week_8\n",
      "1  course-v1:DelftX+EX101x+3T2015_1023643  1.000000  Week_5   Week_1\n",
      "1  course-v1:DelftX+EX101x+3T2015_1023643  1.000000  Week_5   Week_2\n"
     ]
    }
   ],
   "source": [
    "# Transform\n",
    "learner_grade_byweek_alt = pd.read_csv(\"EX101x_3T2015_grade_byweek_alt.csv\")\n",
    "learner_grade_byweek_alt = learner_grade_byweek_alt.merge(learner_group, on=\"course_learner_id\")\n",
    "print learner_grade_byweek_alt.head(10)\n",
    "learner_grade_distribution = trans_grade_byweek(learner_grade_byweek_alt, weeklist)\n",
    "learner_grade_distribution.to_csv(\"EX101x_3T2015_grade_distribution.csv\", index=False)\n",
    "print learner_grade_distribution.head(10)"
   ]
  },
  {
   "cell_type": "markdown",
   "metadata": {},
   "source": [
    "## Course CTB3365STx-1T2016\n",
    "In this course, only graded assignments are counted in the final grade (practices are ignored). The are 6 graded assignments from week 2 to week 7. In course grading schedule, final grade will removed 2 lowest scores and only count 4 of them. Therefore, each grade assignment counts for 25% of final grades."
   ]
  },
  {
   "cell_type": "code",
   "execution_count": 50,
   "metadata": {
    "collapsed": false
   },
   "outputs": [
    {
     "name": "stdout",
     "output_type": "stream",
     "text": [
      "                             course_learner_id  Week_2    Week_3    Week_4  \\\n",
      "0  course-v1:DelftX+CTB3365STx+1T2016_10005454  0.9375  1.000000  1.000000   \n",
      "1  course-v1:DelftX+CTB3365STx+1T2016_10008349  1.0000  1.000000  0.857143   \n",
      "2  course-v1:DelftX+CTB3365STx+1T2016_10018861  0.8750  0.900000  0.857143   \n",
      "3  course-v1:DelftX+CTB3365STx+1T2016_10019216  0.8750  0.766667  0.428571   \n",
      "4  course-v1:DelftX+CTB3365STx+1T2016_10027884  0.7500  0.766667  1.000000   \n",
      "5  course-v1:DelftX+CTB3365STx+1T2016_10029736  1.0000  1.000000  1.000000   \n",
      "6  course-v1:DelftX+CTB3365STx+1T2016_10031780  0.3750  1.000000  1.000000   \n",
      "7  course-v1:DelftX+CTB3365STx+1T2016_10035855  0.3750  0.233333  0.857143   \n",
      "8  course-v1:DelftX+CTB3365STx+1T2016_10053999  0.8125  0.666667  1.000000   \n",
      "9  course-v1:DelftX+CTB3365STx+1T2016_10067439  0.8750  0.666667  0.428571   \n",
      "\n",
      "     Week_5    Week_6    Week_7  \n",
      "0  0.833333  0.433333  0.923077  \n",
      "1  1.000000  0.322222  0.538462  \n",
      "2  0.000000  0.000000  0.000000  \n",
      "3  0.666667  0.488889  0.538462  \n",
      "4  0.833333  0.766667  0.461538  \n",
      "5  0.000000  0.000000  0.000000  \n",
      "6  0.916667  1.000000  1.000000  \n",
      "7  0.916667  0.900000  1.000000  \n",
      "8  0.666667  0.433333  0.538462  \n",
      "9  0.666667  0.766667  0.461538  \n",
      "['Week_2', 'Week_3', 'Week_4', 'Week_5', 'Week_6', 'Week_7']\n"
     ]
    }
   ],
   "source": [
    "# Read data from csv\n",
    "learner_grade_byweek_alt = pd.read_csv(\"CTB3365STx_1T2016_grade_byweek_alt.csv\")\n",
    "print learner_grade_byweek_alt.head(10)\n",
    "weeklist = learner_grade_byweek_alt.columns.values.tolist()[1:]\n",
    "print weeklist"
   ]
  },
  {
   "cell_type": "code",
   "execution_count": 51,
   "metadata": {
    "collapsed": false
   },
   "outputs": [
    {
     "name": "stdout",
     "output_type": "stream",
     "text": [
      "                             course_learner_id  Week_2    Week_3    Week_4  \\\n",
      "0  course-v1:DelftX+CTB3365STx+1T2016_10005454  0.9375  1.000000  1.000000   \n",
      "1  course-v1:DelftX+CTB3365STx+1T2016_10008349  1.0000  1.000000  0.857143   \n",
      "2  course-v1:DelftX+CTB3365STx+1T2016_10018861  0.8750  0.900000  0.857143   \n",
      "3  course-v1:DelftX+CTB3365STx+1T2016_10019216  0.8750  0.766667  0.428571   \n",
      "4  course-v1:DelftX+CTB3365STx+1T2016_10027884  0.7500  0.766667  1.000000   \n",
      "5  course-v1:DelftX+CTB3365STx+1T2016_10029736  1.0000  1.000000  1.000000   \n",
      "6  course-v1:DelftX+CTB3365STx+1T2016_10031780  0.3750  1.000000  1.000000   \n",
      "7  course-v1:DelftX+CTB3365STx+1T2016_10035855  0.3750  0.233333  0.857143   \n",
      "8  course-v1:DelftX+CTB3365STx+1T2016_10053999  0.8125  0.666667  1.000000   \n",
      "9  course-v1:DelftX+CTB3365STx+1T2016_10067439  0.8750  0.666667  0.428571   \n",
      "\n",
      "     Week_5    Week_6    Week_7  total_grade   group  low_grade  \n",
      "0  0.833333  0.433333  0.923077     3.770833  Week_4   0.433333  \n",
      "1  1.000000  0.322222  0.538462     3.857143  Week_4   0.322222  \n",
      "2  0.000000  0.000000  0.000000     2.632143  Week_4   0.000000  \n",
      "3  0.666667  0.488889  0.538462     2.797222  Week_5   0.428571  \n",
      "4  0.833333  0.766667  0.461538     3.366667  Week_4   0.750000  \n",
      "5  0.000000  0.000000  0.000000     3.000000  Week_4   0.000000  \n",
      "6  0.916667  1.000000  1.000000     3.916667  Week_5   0.375000  \n",
      "7  0.916667  0.900000  1.000000     3.048810  Week_6   0.233333  \n",
      "8  0.666667  0.433333  0.538462     3.145833  Week_4   0.433333  \n",
      "9  0.666667  0.766667  0.461538     2.975000  Week_5   0.428571  \n"
     ]
    }
   ],
   "source": [
    "learner_grade_byweek_alt[\"total_grade\"] = 0\n",
    "learner_grade_byweek_alt[\"group\"] = \"Week_7\"\n",
    "threshold = 2.4\n",
    "# week 4\n",
    "learner_grade_byweek_alt[\"total_grade\"] = (learner_grade_byweek_alt[\"Week_2\"] + \n",
    "                                           learner_grade_byweek_alt[\"Week_3\"] + \n",
    "                                           learner_grade_byweek_alt[\"Week_4\"])\n",
    "learner_grade_byweek_alt.ix[(learner_grade_byweek_alt.total_grade>=threshold) & (learner_grade_byweek_alt.group==\"Week_7\"), 'group'] = \"Week_4\"\n",
    "# week 5\n",
    "learner_grade_byweek_alt[\"total_grade\"] = learner_grade_byweek_alt[\"total_grade\"] + learner_grade_byweek_alt[\"Week_5\"]\n",
    "learner_grade_byweek_alt.ix[(learner_grade_byweek_alt.total_grade>=threshold) & (learner_grade_byweek_alt.group==\"Week_7\"), 'group'] = \"Week_5\"\n",
    "# week 6\n",
    "learner_grade_byweek_alt['low_grade'] = learner_grade_byweek_alt[['Week_2', 'Week_3', 'Week_4', 'Week_5', 'Week_6']].min(axis=1)\n",
    "learner_grade_byweek_alt[\"total_grade\"] = learner_grade_byweek_alt[\"total_grade\"] + learner_grade_byweek_alt[\"Week_6\"] - learner_grade_byweek_alt['low_grade']\n",
    "learner_grade_byweek_alt.ix[(learner_grade_byweek_alt.total_grade>=threshold) & (learner_grade_byweek_alt.group==\"Week_7\"), 'group'] = \"Week_6\"\n",
    "print learner_grade_byweek_alt.head(10)"
   ]
  },
  {
   "cell_type": "code",
   "execution_count": 52,
   "metadata": {
    "collapsed": false
   },
   "outputs": [
    {
     "name": "stdout",
     "output_type": "stream",
     "text": [
      "                             course_learner_id   group\n",
      "0  course-v1:DelftX+CTB3365STx+1T2016_10005454  Week_4\n",
      "1  course-v1:DelftX+CTB3365STx+1T2016_10008349  Week_4\n",
      "2  course-v1:DelftX+CTB3365STx+1T2016_10018861  Week_4\n",
      "3  course-v1:DelftX+CTB3365STx+1T2016_10019216  Week_5\n",
      "4  course-v1:DelftX+CTB3365STx+1T2016_10027884  Week_4\n",
      "5  course-v1:DelftX+CTB3365STx+1T2016_10029736  Week_4\n",
      "6  course-v1:DelftX+CTB3365STx+1T2016_10031780  Week_5\n",
      "7  course-v1:DelftX+CTB3365STx+1T2016_10035855  Week_6\n",
      "8  course-v1:DelftX+CTB3365STx+1T2016_10053999  Week_4\n",
      "9  course-v1:DelftX+CTB3365STx+1T2016_10067439  Week_5\n",
      "(216, 2)\n",
      "(110, 2)\n",
      "(21, 2)\n",
      "(14, 2)\n"
     ]
    }
   ],
   "source": [
    "learner_group = learner_grade_byweek_alt[[\"course_learner_id\", \"group\"]]\n",
    "print learner_group.head(10)\n",
    "learner_group.to_csv(\"CTB3365STx_1T2016_group.csv\", index=False)\n",
    "print learner_group[learner_group.group == \"Week_4\"].shape\n",
    "print learner_group[learner_group.group == \"Week_5\"].shape\n",
    "print learner_group[learner_group.group == \"Week_6\"].shape\n",
    "print learner_group[learner_group.group == \"Week_7\"].shape"
   ]
  },
  {
   "cell_type": "code",
   "execution_count": 53,
   "metadata": {
    "collapsed": false
   },
   "outputs": [
    {
     "name": "stdout",
     "output_type": "stream",
     "text": [
      "                             course_learner_id     score   group rel_week\n",
      "0  course-v1:DelftX+CTB3365STx+1T2016_10005454  0.937500  Week_4   Week_2\n",
      "0  course-v1:DelftX+CTB3365STx+1T2016_10005454  1.000000  Week_4   Week_3\n",
      "0  course-v1:DelftX+CTB3365STx+1T2016_10005454  1.000000  Week_4   Week_4\n",
      "0  course-v1:DelftX+CTB3365STx+1T2016_10005454  0.833333  Week_4   Week_5\n",
      "0  course-v1:DelftX+CTB3365STx+1T2016_10005454  0.433333  Week_4   Week_6\n",
      "0  course-v1:DelftX+CTB3365STx+1T2016_10005454  0.923077  Week_4   Week_7\n",
      "1  course-v1:DelftX+CTB3365STx+1T2016_10008349  1.000000  Week_4   Week_2\n",
      "1  course-v1:DelftX+CTB3365STx+1T2016_10008349  1.000000  Week_4   Week_3\n",
      "1  course-v1:DelftX+CTB3365STx+1T2016_10008349  0.857143  Week_4   Week_4\n",
      "1  course-v1:DelftX+CTB3365STx+1T2016_10008349  1.000000  Week_4   Week_5\n"
     ]
    }
   ],
   "source": [
    "learner_grade_distribution = trans_grade_byweek(learner_grade_byweek_alt, weeklist)\n",
    "learner_grade_distribution.to_csv(\"CTB3365STx_1T2016_grade_distribution.csv\", index=False)\n",
    "print learner_grade_distribution.head(10)"
   ]
  },
  {
   "cell_type": "markdown",
   "metadata": {},
   "source": [
    "## Course RI101x-1T2016 (Is this course really suitable in this work?)"
   ]
  },
  {
   "cell_type": "markdown",
   "metadata": {},
   "source": [
    "In this course, since there is openassessment problems which might be hard to access, we only focus on assignments and assume that all the passers got full grades from openassess problem."
   ]
  },
  {
   "cell_type": "code",
   "execution_count": 54,
   "metadata": {
    "collapsed": false
   },
   "outputs": [
    {
     "name": "stdout",
     "output_type": "stream",
     "text": [
      "                         course_learner_id    Week_1    Week_2  Week_3  \\\n",
      "0  course-v1:DelftX+RI101x+1T2016_10047608  0.666667  1.000000     0.9   \n",
      "1  course-v1:DelftX+RI101x+1T2016_10143370  0.666667  0.727273     0.7   \n",
      "2  course-v1:DelftX+RI101x+1T2016_10167505  0.666667  0.727273     1.0   \n",
      "3  course-v1:DelftX+RI101x+1T2016_10192342  0.333333  0.727273     0.8   \n",
      "4  course-v1:DelftX+RI101x+1T2016_10215694  0.833333  1.000000     0.9   \n",
      "5  course-v1:DelftX+RI101x+1T2016_10234721  0.666667  0.909091     0.9   \n",
      "6  course-v1:DelftX+RI101x+1T2016_10252808  0.000000  0.909091     0.9   \n",
      "7  course-v1:DelftX+RI101x+1T2016_10263285  0.833333  0.454545     0.9   \n",
      "8  course-v1:DelftX+RI101x+1T2016_10282364  0.666667  0.909091     0.9   \n",
      "9  course-v1:DelftX+RI101x+1T2016_10306096  0.833333  0.727273     0.6   \n",
      "\n",
      "     Week_4  Week_5    Week_6    Week_7  \n",
      "0  0.916667  0.6875  0.916667  0.928571  \n",
      "1  0.916667  0.6875  0.583333  0.642857  \n",
      "2  0.916667  0.8125  0.666667  0.857143  \n",
      "3  0.916667  0.8750  0.916667  0.928571  \n",
      "4  0.833333  1.0000  0.916667  1.000000  \n",
      "5  0.916667  0.8125  0.833333  0.928571  \n",
      "6  0.750000  0.5625  0.666667  0.642857  \n",
      "7  0.833333  1.0000  1.000000  1.000000  \n",
      "8  0.916667  0.9375  0.750000  0.500000  \n",
      "9  0.916667  0.5625  0.833333  0.428571  \n",
      "['Week_1', 'Week_2', 'Week_3', 'Week_4', 'Week_5', 'Week_6', 'Week_7']\n"
     ]
    }
   ],
   "source": [
    "# Read data from csv\n",
    "learner_grade_byweek_alt = pd.read_csv(\"RI101x_1T2016_grade_byweek_alt.csv\")\n",
    "print learner_grade_byweek_alt.head(10)\n",
    "weeklist = learner_grade_byweek_alt.columns.values.tolist()[1:]\n",
    "print weeklist"
   ]
  },
  {
   "cell_type": "code",
   "execution_count": 55,
   "metadata": {
    "collapsed": true
   },
   "outputs": [],
   "source": [
    "def passweek_detect_ri (df, threshold1, threshold2):\n",
    "    # list the week, learners' ids are in the indexes \n",
    "    weeklist = df.columns.values.tolist()[1:]\n",
    "    df['total_grade'] = 0\n",
    "    df['group'] = \"NotEnough\"\n",
    "    \n",
    "    lastweek = weeklist[-1]\n",
    "    for week in weeklist:\n",
    "        df['total_grade'] = df['total_grade'] + df.loc[: , week]\n",
    "        df.ix[(df.total_grade>=threshold1) & (df.group==\"NotEnough\"), 'group'] = week\n",
    "        if week == lastweek:\n",
    "            df.ix[(df.total_grade>=threshold2) & (df.group==\"NotEnough\"), 'group'] = week\n",
    "        \n",
    "    # return a dataframe with columns: week_1 ... week_n, total_grade, group\n",
    "    return df"
   ]
  },
  {
   "cell_type": "code",
   "execution_count": 56,
   "metadata": {
    "collapsed": false
   },
   "outputs": [],
   "source": [
    "learner_grade_byweek_alt = passweek_detect_ri(learner_grade_byweek_alt, 4.5*6/7, 3.0*6/7)"
   ]
  },
  {
   "cell_type": "code",
   "execution_count": 57,
   "metadata": {
    "collapsed": false
   },
   "outputs": [
    {
     "name": "stdout",
     "output_type": "stream",
     "text": [
      "(113, 10)\n"
     ]
    }
   ],
   "source": [
    "print learner_grade_byweek_alt.shape"
   ]
  },
  {
   "cell_type": "code",
   "execution_count": 58,
   "metadata": {
    "collapsed": false
   },
   "outputs": [
    {
     "name": "stdout",
     "output_type": "stream",
     "text": [
      "                         course_learner_id    Week_1    Week_2  Week_3  \\\n",
      "0  course-v1:DelftX+RI101x+1T2016_10047608  0.666667  1.000000     0.9   \n",
      "1  course-v1:DelftX+RI101x+1T2016_10143370  0.666667  0.727273     0.7   \n",
      "2  course-v1:DelftX+RI101x+1T2016_10167505  0.666667  0.727273     1.0   \n",
      "3  course-v1:DelftX+RI101x+1T2016_10192342  0.333333  0.727273     0.8   \n",
      "4  course-v1:DelftX+RI101x+1T2016_10215694  0.833333  1.000000     0.9   \n",
      "5  course-v1:DelftX+RI101x+1T2016_10234721  0.666667  0.909091     0.9   \n",
      "6  course-v1:DelftX+RI101x+1T2016_10252808  0.000000  0.909091     0.9   \n",
      "7  course-v1:DelftX+RI101x+1T2016_10263285  0.833333  0.454545     0.9   \n",
      "8  course-v1:DelftX+RI101x+1T2016_10282364  0.666667  0.909091     0.9   \n",
      "9  course-v1:DelftX+RI101x+1T2016_10306096  0.833333  0.727273     0.6   \n",
      "\n",
      "     Week_4  Week_5    Week_6    Week_7  total_grade   group  \n",
      "0  0.916667  0.6875  0.916667  0.928571     6.016071  Week_5  \n",
      "1  0.916667  0.6875  0.583333  0.642857     4.924297  Week_6  \n",
      "2  0.916667  0.8125  0.666667  0.857143     5.646916  Week_5  \n",
      "3  0.916667  0.8750  0.916667  0.928571     5.497511  Week_6  \n",
      "4  0.833333  1.0000  0.916667  1.000000     6.483333  Week_5  \n",
      "5  0.916667  0.8125  0.833333  0.928571     5.966829  Week_5  \n",
      "6  0.750000  0.5625  0.666667  0.642857     4.431115  Week_7  \n",
      "7  0.833333  1.0000  1.000000  1.000000     6.021212  Week_5  \n",
      "8  0.916667  0.9375  0.750000  0.500000     5.579924  Week_5  \n",
      "9  0.916667  0.5625  0.833333  0.428571     4.901677  Week_6  \n",
      "(23, 2)\n",
      "(69, 2)\n",
      "(17, 2)\n",
      "(4, 2)\n"
     ]
    }
   ],
   "source": [
    "# Output results\n",
    "learner_grade_byweek_alt = learner_grade_byweek_alt.drop(learner_grade_byweek_alt[learner_grade_byweek_alt.group == \"NotEnough\"].index)\n",
    "print learner_grade_byweek_alt.head(10)\n",
    "learner_group = learner_grade_byweek_alt[[\"course_learner_id\", \"group\"]]\n",
    "print learner_group[learner_group.group == \"Week_4\"].shape\n",
    "print learner_group[learner_group.group == \"Week_5\"].shape\n",
    "print learner_group[learner_group.group == \"Week_6\"].shape\n",
    "print learner_group[learner_group.group == \"Week_7\"].shape\n",
    "learner_group.to_csv(\"RI101x_1T2016_group.csv\", index=False)"
   ]
  },
  {
   "cell_type": "code",
   "execution_count": 59,
   "metadata": {
    "collapsed": false
   },
   "outputs": [
    {
     "name": "stdout",
     "output_type": "stream",
     "text": [
      "                          course_learner_id     score   group rel_week\n",
      "0   course-v1:DelftX+RI101x+1T2016_10047608  0.666667  Week_5   Week_1\n",
      "0   course-v1:DelftX+RI101x+1T2016_10047608  1.000000  Week_5   Week_2\n",
      "0   course-v1:DelftX+RI101x+1T2016_10047608  0.900000  Week_5   Week_3\n",
      "0   course-v1:DelftX+RI101x+1T2016_10047608  0.916667  Week_5   Week_4\n",
      "0   course-v1:DelftX+RI101x+1T2016_10047608  0.687500  Week_5   Week_5\n",
      "0   course-v1:DelftX+RI101x+1T2016_10047608  0.916667  Week_5   Week_6\n",
      "0   course-v1:DelftX+RI101x+1T2016_10047608  0.928571  Week_5   Week_7\n",
      "1   course-v1:DelftX+RI101x+1T2016_10143370  0.666667  Week_6   Week_1\n",
      "1   course-v1:DelftX+RI101x+1T2016_10143370  0.727273  Week_6   Week_2\n",
      "1   course-v1:DelftX+RI101x+1T2016_10143370  0.700000  Week_6   Week_3\n",
      "1   course-v1:DelftX+RI101x+1T2016_10143370  0.916667  Week_6   Week_4\n",
      "1   course-v1:DelftX+RI101x+1T2016_10143370  0.687500  Week_6   Week_5\n",
      "1   course-v1:DelftX+RI101x+1T2016_10143370  0.583333  Week_6   Week_6\n",
      "1   course-v1:DelftX+RI101x+1T2016_10143370  0.642857  Week_6   Week_7\n",
      "2   course-v1:DelftX+RI101x+1T2016_10167505  0.666667  Week_5   Week_1\n",
      "2   course-v1:DelftX+RI101x+1T2016_10167505  0.727273  Week_5   Week_2\n",
      "2   course-v1:DelftX+RI101x+1T2016_10167505  1.000000  Week_5   Week_3\n",
      "2   course-v1:DelftX+RI101x+1T2016_10167505  0.916667  Week_5   Week_4\n",
      "2   course-v1:DelftX+RI101x+1T2016_10167505  0.812500  Week_5   Week_5\n",
      "2   course-v1:DelftX+RI101x+1T2016_10167505  0.666667  Week_5   Week_6\n",
      "2   course-v1:DelftX+RI101x+1T2016_10167505  0.857143  Week_5   Week_7\n",
      "3   course-v1:DelftX+RI101x+1T2016_10192342  0.333333  Week_6   Week_1\n",
      "3   course-v1:DelftX+RI101x+1T2016_10192342  0.727273  Week_6   Week_2\n",
      "3   course-v1:DelftX+RI101x+1T2016_10192342  0.800000  Week_6   Week_3\n",
      "3   course-v1:DelftX+RI101x+1T2016_10192342  0.916667  Week_6   Week_4\n",
      "3   course-v1:DelftX+RI101x+1T2016_10192342  0.875000  Week_6   Week_5\n",
      "3   course-v1:DelftX+RI101x+1T2016_10192342  0.916667  Week_6   Week_6\n",
      "3   course-v1:DelftX+RI101x+1T2016_10192342  0.928571  Week_6   Week_7\n",
      "4   course-v1:DelftX+RI101x+1T2016_10215694  0.833333  Week_5   Week_1\n",
      "4   course-v1:DelftX+RI101x+1T2016_10215694  1.000000  Week_5   Week_2\n",
      "..                                      ...       ...     ...      ...\n",
      "10  course-v1:DelftX+RI101x+1T2016_10425799  0.833333  Week_5   Week_1\n",
      "10  course-v1:DelftX+RI101x+1T2016_10425799  0.909091  Week_5   Week_2\n",
      "10  course-v1:DelftX+RI101x+1T2016_10425799  0.900000  Week_5   Week_3\n",
      "10  course-v1:DelftX+RI101x+1T2016_10425799  0.750000  Week_5   Week_4\n",
      "10  course-v1:DelftX+RI101x+1T2016_10425799  0.750000  Week_5   Week_5\n",
      "10  course-v1:DelftX+RI101x+1T2016_10425799  0.666667  Week_5   Week_6\n",
      "10  course-v1:DelftX+RI101x+1T2016_10425799  0.714286  Week_5   Week_7\n",
      "11   course-v1:DelftX+RI101x+1T2016_1048861  0.666667  Week_5   Week_1\n",
      "11   course-v1:DelftX+RI101x+1T2016_1048861  0.727273  Week_5   Week_2\n",
      "11   course-v1:DelftX+RI101x+1T2016_1048861  1.000000  Week_5   Week_3\n",
      "11   course-v1:DelftX+RI101x+1T2016_1048861  0.916667  Week_5   Week_4\n",
      "11   course-v1:DelftX+RI101x+1T2016_1048861  0.812500  Week_5   Week_5\n",
      "11   course-v1:DelftX+RI101x+1T2016_1048861  0.833333  Week_5   Week_6\n",
      "11   course-v1:DelftX+RI101x+1T2016_1048861  0.928571  Week_5   Week_7\n",
      "12  course-v1:DelftX+RI101x+1T2016_10519440  0.666667  Week_5   Week_1\n",
      "12  course-v1:DelftX+RI101x+1T2016_10519440  0.636364  Week_5   Week_2\n",
      "12  course-v1:DelftX+RI101x+1T2016_10519440  0.900000  Week_5   Week_3\n",
      "12  course-v1:DelftX+RI101x+1T2016_10519440  1.000000  Week_5   Week_4\n",
      "12  course-v1:DelftX+RI101x+1T2016_10519440  0.812500  Week_5   Week_5\n",
      "12  course-v1:DelftX+RI101x+1T2016_10519440  0.750000  Week_5   Week_6\n",
      "12  course-v1:DelftX+RI101x+1T2016_10519440  0.785714  Week_5   Week_7\n",
      "13   course-v1:DelftX+RI101x+1T2016_1122077  0.833333  Week_5   Week_1\n",
      "13   course-v1:DelftX+RI101x+1T2016_1122077  0.818182  Week_5   Week_2\n",
      "13   course-v1:DelftX+RI101x+1T2016_1122077  0.900000  Week_5   Week_3\n",
      "13   course-v1:DelftX+RI101x+1T2016_1122077  0.833333  Week_5   Week_4\n",
      "13   course-v1:DelftX+RI101x+1T2016_1122077  0.687500  Week_5   Week_5\n",
      "13   course-v1:DelftX+RI101x+1T2016_1122077  0.833333  Week_5   Week_6\n",
      "13   course-v1:DelftX+RI101x+1T2016_1122077  0.785714  Week_5   Week_7\n",
      "14   course-v1:DelftX+RI101x+1T2016_1663751  1.000000  Week_4   Week_1\n",
      "14   course-v1:DelftX+RI101x+1T2016_1663751  1.000000  Week_4   Week_2\n",
      "\n",
      "[100 rows x 4 columns]\n"
     ]
    }
   ],
   "source": [
    "learner_grade_distribution = trans_grade_byweek(learner_grade_byweek_alt, weeklist)\n",
    "learner_grade_distribution.to_csv(\"RI101x_1T2016_grade_distribution.csv\", index=False)\n",
    "print learner_grade_distribution.head(100)"
   ]
  },
  {
   "cell_type": "markdown",
   "metadata": {},
   "source": []
  }
 ],
 "metadata": {
  "kernelspec": {
   "display_name": "Python 2",
   "language": "python",
   "name": "python2"
  },
  "language_info": {
   "codemirror_mode": {
    "name": "ipython",
    "version": 2
   },
   "file_extension": ".py",
   "mimetype": "text/x-python",
   "name": "python",
   "nbconvert_exporter": "python",
   "pygments_lexer": "ipython2",
   "version": "2.7.6"
  }
 },
 "nbformat": 4,
 "nbformat_minor": 0
}
